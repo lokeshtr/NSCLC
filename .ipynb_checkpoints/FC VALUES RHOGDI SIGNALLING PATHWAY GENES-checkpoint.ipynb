{
 "cells": [
  {
   "cell_type": "markdown",
   "metadata": {},
   "source": [
    "# This Notebook contains the code to calculate FC values"
   ]
  },
  {
   "cell_type": "markdown",
   "metadata": {},
   "source": [
    "contact:\n",
    "\n",
    "Saransh Gupta: saransh.official.iitkgp@gmail.com\n",
    "\n",
    "Website: http://saranshqm.github.io/\n",
    "\n",
    "Merge files to : https://github.com/saranshqm/NIBIOHN-NSCLC\n",
    "\n",
    "Importing all required Libraries"
   ]
  },
  {
   "cell_type": "code",
   "execution_count": 1,
   "metadata": {},
   "outputs": [],
   "source": [
    "import pandas as pd\n",
    "import numpy as np\n",
    "import warnings\n",
    "warnings.filterwarnings(\"ignore\")\n",
    "df = pd.read_csv('train_data_whole_merged/train_data_whole_merged.csv')\n",
    "# df = df.drop(['Unnamed: 0'],axis = 1)\n",
    "\n",
    "try:\n",
    "    df['SEPT4']\n",
    "\n",
    "except:\n",
    "    df.rename(columns={'Sep-04': 'SEPT4'}, inplace=True)\n",
    "else:\n",
    "    print('SEPT4 was present already')\n",
    "   \n",
    "\n",
    "a = ['Disease Status (NSCLC: primary tumors; Normal: non-tumor lung tissues)','PIP4K2A','RTKN','ECM1','ITGB2','GNA11','GPRC5A','PAK2','CD44','ARHGAP6','ARHGEF19','CDH1','CDH5','CFL2','DLC1','GNG11','PIP5K1B','RHOJ','ERMP1','PAK1','CDC42-IT1','RAC2','ROCK2','LIMK2','DGKZ','DAGLB','PAAF1','PIP','ERMAP','LACTB']\n",
    "\n",
    "df = df[a]\n",
    "\n",
    "disease = df.loc[df['Disease Status (NSCLC: primary tumors; Normal: non-tumor lung tissues)'] == 'NSCLC']\n",
    "normal  = df.loc[df['Disease Status (NSCLC: primary tumors; Normal: non-tumor lung tissues)'] == 'Normal']\n",
    "disease = disease[disease.columns[:-1]]\n",
    "normal = normal[normal.columns[:-1]]"
   ]
  },
  {
   "cell_type": "code",
   "execution_count": 2,
   "metadata": {},
   "outputs": [],
   "source": [
    "disease_expressions = []\n",
    "normal_expressions = []\n",
    "\n",
    "for i in range(1,normal.shape[1]):\n",
    "    disease_expressions.append(np.mean(disease[disease.columns[i]]))\n",
    "    normal_expressions.append(np.mean(normal[normal.columns[i]]))"
   ]
  },
  {
   "cell_type": "code",
   "execution_count": 3,
   "metadata": {},
   "outputs": [
    {
     "data": {
      "text/plain": [
       "28"
      ]
     },
     "execution_count": 3,
     "metadata": {},
     "output_type": "execute_result"
    }
   ],
   "source": [
    "len(disease_expressions)"
   ]
  },
  {
   "cell_type": "code",
   "execution_count": 4,
   "metadata": {},
   "outputs": [
    {
     "name": "stdout",
     "output_type": "stream",
     "text": [
      "Number of genes out of 412 in training data-set having FC>1:\t 7\n",
      "\n",
      "Note:\n",
      "\"genes_vs_FC\" variable contains FC values for all 412 genes for the training data-set\n"
     ]
    }
   ],
   "source": [
    "disease_expressions = np.asarray(disease_expressions)\n",
    "normal_expressions = np.asarray(normal_expressions)\n",
    "FC = disease_expressions/normal_expressions\n",
    "sum = 0\n",
    "for i in FC:\n",
    "    if i>1:\n",
    "        sum+=1\n",
    "print('Number of genes out of 412 in training data-set having FC>1:\\t',sum)\n",
    "genes_vs_FC = list(zip(disease.columns, FC))\n",
    "print('\\nNote:')\n",
    "print('\"genes_vs_FC\" variable contains FC values for all 412 genes for the training data-set')"
   ]
  },
  {
   "cell_type": "code",
   "execution_count": 5,
   "metadata": {},
   "outputs": [
    {
     "data": {
      "text/plain": [
       "[('Disease Status (NSCLC: primary tumors; Normal: non-tumor lung tissues)',\n",
       "  0.9639041838966323),\n",
       " ('PIP4K2A', 1.0661091024085159),\n",
       " ('RTKN', 1.0560523420678563),\n",
       " ('ECM1', 0.9632124553204513),\n",
       " ('ITGB2', 0.9614049878326704),\n",
       " ('GNA11', 0.8962470912548877),\n",
       " ('GPRC5A', 0.9851022099751158),\n",
       " ('PAK2', 0.9633195983538719),\n",
       " ('CD44', 0.8142596719374271),\n",
       " ('ARHGAP6', 1.0925350893360692),\n",
       " ('ARHGEF19', 1.0545228236858928),\n",
       " ('CDH1', 0.8330894570462183),\n",
       " ('CDH5', 0.923562607381467),\n",
       " ('CFL2', 0.8729804912887879),\n",
       " ('DLC1', 0.8725428742334737),\n",
       " ('GNG11', 0.8173116678367733),\n",
       " ('PIP5K1B', 0.8589238394827202),\n",
       " ('RHOJ', 0.9997340397318625),\n",
       " ('ERMP1', 1.0560115573385571),\n",
       " ('PAK1', 0.9783267247668314),\n",
       " ('CDC42-IT1', 0.9626864283342),\n",
       " ('RAC2', 0.9494248477182691),\n",
       " ('ROCK2', 0.9869119975699494),\n",
       " ('LIMK2', 0.999347080890199),\n",
       " ('DGKZ', 1.0177490908651496),\n",
       " ('DAGLB', 1.0393271850336738),\n",
       " ('PAAF1', 0.9971197490439055),\n",
       " ('PIP', 0.9634259854754074)]"
      ]
     },
     "execution_count": 5,
     "metadata": {},
     "output_type": "execute_result"
    }
   ],
   "source": [
    "genes_vs_FC"
   ]
  },
  {
   "cell_type": "markdown",
   "metadata": {},
   "source": [
    "write \"genes_vs_FC\" to txt file"
   ]
  },
  {
   "cell_type": "code",
   "execution_count": 6,
   "metadata": {},
   "outputs": [],
   "source": [
    "with open(\"rhogdi_genes_vs_FC.txt\", \"w\") as outfile:\n",
    "    outfile.write(\"\\n\".join(str(item) for item in genes_vs_FC))\n"
   ]
  }
 ],
 "metadata": {
  "kernelspec": {
   "display_name": "Python 3",
   "language": "python",
   "name": "python3"
  },
  "language_info": {
   "codemirror_mode": {
    "name": "ipython",
    "version": 3
   },
   "file_extension": ".py",
   "mimetype": "text/x-python",
   "name": "python",
   "nbconvert_exporter": "python",
   "pygments_lexer": "ipython3",
   "version": "3.7.8"
  }
 },
 "nbformat": 4,
 "nbformat_minor": 4
}
