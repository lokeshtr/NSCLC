{
 "cells": [
  {
   "cell_type": "markdown",
   "metadata": {},
   "source": [
    "# This Notebook contains all the methods used for prediction NSCLC"
   ]
  },
  {
   "cell_type": "markdown",
   "metadata": {},
   "source": [
    "### Importing all required Libraries"
   ]
  },
  {
   "cell_type": "code",
   "execution_count": 1,
   "metadata": {},
   "outputs": [],
   "source": [
    "import pandas as pd\n",
    "import numpy as np\n",
    "import sklearn.datasets\n",
    "import sklearn.metrics\n",
    "from sklearn.model_selection import train_test_split\n",
    "from sklearn.metrics import roc_curve, roc_auc_score\n",
    "from scipy import stats\n",
    "from sklearn.model_selection import StratifiedKFold\n",
    "from sklearn.metrics import roc_auc_score\n",
    "from sklearn.metrics import cohen_kappa_score\n",
    "from sklearn.metrics import classification_report, confusion_matrix\n",
    "from sklearn.preprocessing import StandardScaler\n",
    "import matplotlib.pyplot as plt\n",
    "import warnings\n",
    "warnings.filterwarnings(\"ignore\")\n",
    "import pickle \n",
    "import joblib\n",
    "import scipy\n",
    "from scipy import stats\n",
    "from imblearn.over_sampling import SMOTE \n",
    "import random\n",
    "random.seed(2)\n",
    "np.random.seed()\n",
    "import xgboost as xgb\n",
    "import plotly.graph_objects as go"
   ]
  },
  {
   "cell_type": "markdown",
   "metadata": {},
   "source": [
    "### path to the files"
   ]
  },
  {
   "cell_type": "code",
   "execution_count": 2,
   "metadata": {},
   "outputs": [],
   "source": [
    "training_dataset = '../datasets/training_data_after_feature_selection.csv'\n",
    "test_dataset = '../datasets/test_data_after_feature_selection.csv'\n",
    "logistic_regression_pretrained_weights = './pre-trained weights/logistic_regression_KFOLD_OVERSAMPLE.pkl'\n",
    "decision_trees_weights = 'pre-trained weights/decision_trees_KFOLD_OVERSAMPLED.pkl'\n",
    "SVM_weights = 'pre-trained weights/svm_KFOLD_OVERSAMPLED.pkl'\n",
    "catboost_weights = 'pre-trained weights/catboost_KFOLD_OVERSAMPLING.pkl'\n",
    "xgboost_weights = 'pre-trained weights/xgboost_KFOLD_OVERSAMPLING.pkl'\n",
    "random_forest_weights = 'pre-trained weights/random_forest_KFOLD_OVERSAMPLING.pkl'\n",
    "lgbm_weights = 'pre-trained weights/LGBM_KFOLDOVERSAMPLING.pkl'"
   ]
  },
  {
   "cell_type": "markdown",
   "metadata": {},
   "source": [
    "### Importing the data-sets"
   ]
  },
  {
   "cell_type": "code",
   "execution_count": 3,
   "metadata": {},
   "outputs": [],
   "source": [
    "train = pd.read_csv(training_dataset)\n",
    "train.drop(['Unnamed: 0'],axis=1,inplace=True)\n",
    "test = pd.read_csv(test_dataset)\n",
    "test.drop(['Unnamed: 0'],axis=1,inplace=True)"
   ]
  },
  {
   "cell_type": "markdown",
   "metadata": {},
   "source": [
    "### Outlier Removal using Z-Test followed by oversampling of the dataset with SMOTE"
   ]
  },
  {
   "cell_type": "code",
   "execution_count": 4,
   "metadata": {},
   "outputs": [],
   "source": [
    "z = np.abs(stats.zscore(train))\n",
    "threshold = 3\n",
    "original_train = train\n",
    "train = train[(z < 3).all(axis=1)]\n",
    "train.columns\n",
    "y = train['Disease Status (NSCLC: primary tumors; Normal: non-tumor lung tissues)']\n",
    "x = train[train.columns[:-1]]\n",
    "x = np.asarray(x)\n",
    "y = np.asarray(y)\n",
    "sm = SMOTE(random_state = 2) "
   ]
  },
  {
   "cell_type": "markdown",
   "metadata": {},
   "source": [
    "# Normal Classifiers\n",
    "\n",
    "1. Logistic Regression\n",
    "2. Decision Trees Classifiers\n",
    "3. Support Vector Machines"
   ]
  },
  {
   "cell_type": "markdown",
   "metadata": {},
   "source": [
    "#### Logistic Regression  \n",
    "\n",
    "    params: \n",
    "        C=0.05827593122724494\n",
    "        penalty='l1'\n",
    "        solver='liblinear'\n",
    "        tol=0.01, \n",
    "        max_iter=10,\n",
    "        warm_start=True,\n",
    "        intercept_scaling=10,\n",
    "        random_state = 2"
   ]
  },
  {
   "cell_type": "code",
   "execution_count": 5,
   "metadata": {},
   "outputs": [
    {
     "name": "stdout",
     "output_type": "stream",
     "text": [
      "Training and checking cross-validation scores\n",
      "\n",
      "K-FOLD # 1\n",
      "Train AUC-ROC Score:  0.9640410958904109  Val AUC-ROC score:  0.972972972972973 \n",
      "\n",
      "validation kappa:- 0.9057301293900185\n",
      "K-FOLD # 2\n",
      "Train AUC-ROC Score:  0.9675767918088737  Val AUC-ROC score:  0.944969296173831 \n",
      "\n",
      "validation kappa:- 0.8807854137447405\n",
      "K-FOLD # 3\n",
      "Train AUC-ROC Score:  0.9590443686006827  Val AUC-ROC score:  0.9931506849315068 \n",
      "\n",
      "validation kappa:- 0.9755625453665618\n",
      "K-FOLD # 4\n",
      "Train AUC-ROC Score:  0.9726962457337884  Val AUC-ROC score:  0.9383561643835616 \n",
      "\n",
      "validation kappa:- 0.7976852882261296\n",
      "K-FOLD # 5\n",
      "Train AUC-ROC Score:  0.9658703071672355  Val AUC-ROC score:  0.9547455968688846 \n",
      "\n",
      "validation kappa:- 0.8804167653327019\n",
      "Here we go with the confision Matrix\n",
      "\n",
      "[[69  4]\n",
      " [ 1 27]]\n",
      "              precision    recall  f1-score   support\n",
      "\n",
      "           0       0.99      0.95      0.97        73\n",
      "           1       0.87      0.96      0.92        28\n",
      "\n",
      "    accuracy                           0.95       101\n",
      "   macro avg       0.93      0.95      0.94       101\n",
      "weighted avg       0.95      0.95      0.95       101\n",
      "\n",
      "\n",
      "\n",
      "........................Testing the Model..............................\n",
      "\n",
      "0:- NSCLC Detected \t& \t1:- Normal\n",
      "\n",
      "Here we go with the confision Matrix\n",
      "\n",
      "[[191   8]\n",
      " [  0  19]]\n",
      "              precision    recall  f1-score   support\n",
      "\n",
      "           0       1.00      0.96      0.98       199\n",
      "           1       0.70      1.00      0.83        19\n",
      "\n",
      "    accuracy                           0.96       218\n",
      "   macro avg       0.85      0.98      0.90       218\n",
      "weighted avg       0.97      0.96      0.97       218\n",
      "\n",
      "test kappa: \t 0.8062652743834704\n",
      "test AUC-ROC score: \t 0.9798994974874372\n"
     ]
    }
   ],
   "source": [
    "### load the weights\n",
    "model_lr = joblib.load(logistic_regression_pretrained_weights)  \n",
    "lr_val_auc = []\n",
    "lr_val_kappa = []\n",
    "print('Training and checking cross-validation scores\\n')\n",
    "skf = StratifiedKFold(n_splits=5, random_state=42)\n",
    "fold = 1\n",
    "for train_index, val_index in skf.split(x,y): \n",
    "    X_train, X_test = x[train_index], x[val_index] \n",
    "    Y_train, Y_test = y[train_index], y[val_index]\n",
    "    X_train, Y_train = sm.fit_sample(X_train, Y_train.ravel())\n",
    "    a_train = model_lr.predict(X_train)\n",
    "    a_test = model_lr.predict(X_test)\n",
    "    print('K-FOLD #',fold)\n",
    "    fold+=1\n",
    "    print('Train AUC-ROC Score: ',roc_auc_score(Y_train,a_train),' Val AUC-ROC score: ',roc_auc_score(Y_test,a_test),'\\n')\n",
    "    print('validation kappa:-',cohen_kappa_score(Y_test,a_test))\n",
    "    lr_val_auc.append(roc_auc_score(Y_test,a_test))\n",
    "    lr_val_kappa.append(cohen_kappa_score(Y_test,a_test))\n",
    "    \n",
    "print('Here we go with the confision Matrix\\n')\n",
    "print(confusion_matrix(Y_test,a_test))\n",
    "print(classification_report(Y_test,a_test))\n",
    "print('\\n')\n",
    "print('........................Testing the Model..............................\\n')\n",
    "y_testt = test['Disease Status (NSCLC: primary tumors; Normal: non-tumor lung tissues)']\n",
    "x_testt = test[test.columns[:-1]]\n",
    "y_testt_pred = model_lr.predict(x_testt)\n",
    "\n",
    "a_test = []\n",
    "for i in y_testt_pred:\n",
    "    if i>0.5:\n",
    "        a_test.append(1)\n",
    "    else:\n",
    "        a_test.append(0)\n",
    "\n",
    "print('0:- NSCLC Detected', '\\t& \\t1:- Normal\\n')\n",
    "\n",
    "print('Here we go with the confision Matrix\\n')\n",
    "print(confusion_matrix(y_testt,a_test))\n",
    "print(classification_report(y_testt,a_test))\n",
    "\n",
    "print('test kappa: \\t',cohen_kappa_score(y_testt, a_test))\n",
    "\n",
    "print('test AUC-ROC score: \\t',roc_auc_score(y_testt, a_test))\n",
    "\n",
    "lr_test_auc = roc_auc_score(y_testt, a_test)\n",
    "lr_test_kappa = cohen_kappa_score(y_testt, a_test)"
   ]
  },
  {
   "cell_type": "markdown",
   "metadata": {},
   "source": [
    "#### Decision Trees Classifiers (DTC)\n",
    "\n",
    "    params: \n",
    "    class_weight=None, \n",
    "    criterion='gini', \n",
    "    max_depth=int(10),\n",
    "    max_features=int(10.4),\n",
    "    min_samples_leaf=int(10), \n",
    "    min_samples_split=2,\n",
    "    random_state=42, \n",
    "    splitter='best'"
   ]
  },
  {
   "cell_type": "code",
   "execution_count": 6,
   "metadata": {},
   "outputs": [
    {
     "name": "stdout",
     "output_type": "stream",
     "text": [
      "K-FOLD # 1\n",
      "Train AUC-ROC Score:  0.9092465753424656  Val AUC-ROC score:  0.9194015444015444 \n",
      "\n",
      "val kappa:- 0.8295942720763723\n",
      "K-FOLD # 2\n",
      "Train AUC-ROC Score:  0.9163822525597269  Val AUC-ROC score:  0.9208786017949929 \n",
      "\n",
      "val kappa:- 0.8330995792426368\n",
      "K-FOLD # 3\n",
      "Train AUC-ROC Score:  0.9010238907849828  Val AUC-ROC score:  0.9684442270058709 \n",
      "\n",
      "val kappa:- 0.9266876360996854\n",
      "K-FOLD # 4\n",
      "Train AUC-ROC Score:  0.9232081911262799  Val AUC-ROC score:  0.858610567514677 \n",
      "\n",
      "val kappa:- 0.725204056393767\n",
      "K-FOLD # 5\n",
      "Train AUC-ROC Score:  0.9215017064846417  Val AUC-ROC score:  0.8806262230919766 \n",
      "\n",
      "val kappa:- 0.7369168837319441\n",
      "[[66  7]\n",
      " [ 4 24]]\n",
      "              precision    recall  f1-score   support\n",
      "\n",
      "           0       0.94      0.90      0.92        73\n",
      "           1       0.77      0.86      0.81        28\n",
      "\n",
      "    accuracy                           0.89       101\n",
      "   macro avg       0.86      0.88      0.87       101\n",
      "weighted avg       0.90      0.89      0.89       101\n",
      "\n",
      "\n",
      "\n",
      "........................Testing the Model..............................\n",
      "\n",
      "0:- NSCLC Detected \t& \t1:- Normal\n",
      "\n",
      "Here we go with the confision Matrix\n",
      "\n",
      "[[193   6]\n",
      " [  0  19]]\n",
      "              precision    recall  f1-score   support\n",
      "\n",
      "           0       1.00      0.97      0.98       199\n",
      "           1       0.76      1.00      0.86        19\n",
      "\n",
      "    accuracy                           0.97       218\n",
      "   macro avg       0.88      0.98      0.92       218\n",
      "weighted avg       0.98      0.97      0.97       218\n",
      "\n",
      "test kappa: \t 0.848646146725295\n",
      "test AUC-ROC score: \t 0.9849246231155778\n"
     ]
    }
   ],
   "source": [
    "model_dtc = joblib.load(decision_trees_weights) \n",
    "\n",
    "dtc_val_auc = []\n",
    "dtc_val_kappa = []\n",
    "\n",
    "skf = StratifiedKFold(n_splits=5, random_state=42)\n",
    "\n",
    "# X is the feature set and y is the target\n",
    "fold = 1\n",
    "for train_index, val_index in skf.split(x,y): \n",
    "    X_train, X_test = x[train_index], x[val_index] \n",
    "    Y_train, Y_test = y[train_index], y[val_index]\n",
    "    \n",
    "    X_train, Y_train = sm.fit_sample(X_train, Y_train.ravel())\n",
    "    \n",
    "    a_train = model_dtc.predict(X_train)\n",
    "    a_test = model_dtc.predict(X_test)\n",
    "    print('K-FOLD #',fold)\n",
    "    fold+=1\n",
    "    print('Train AUC-ROC Score: ',roc_auc_score(Y_train,a_train),' Val AUC-ROC score: ',roc_auc_score(Y_test,a_test),'\\n')\n",
    "\n",
    "    print('val kappa:-',cohen_kappa_score(Y_test,a_test))\n",
    "    \n",
    "    dtc_val_auc.append(roc_auc_score(Y_test,a_test))\n",
    "    dtc_val_kappa.append(cohen_kappa_score(Y_test,a_test))\n",
    "\n",
    "print(confusion_matrix(Y_test,a_test))\n",
    "print(classification_report(Y_test,a_test))\n",
    "print('\\n')\n",
    "print('........................Testing the Model..............................\\n')\n",
    "y_testt = test['Disease Status (NSCLC: primary tumors; Normal: non-tumor lung tissues)']\n",
    "x_testt = test[test.columns[:-1]]\n",
    "y_testt_pred = model_dtc.predict(x_testt)\n",
    "\n",
    "a_test = []\n",
    "for i in y_testt_pred:\n",
    "    if i>0.5:\n",
    "        a_test.append(1)\n",
    "    else:\n",
    "        a_test.append(0)\n",
    "\n",
    "print('0:- NSCLC Detected', '\\t& \\t1:- Normal\\n')\n",
    "\n",
    "print('Here we go with the confision Matrix\\n')\n",
    "print(confusion_matrix(y_testt,a_test))\n",
    "print(classification_report(y_testt,a_test))\n",
    "\n",
    "print('test kappa: \\t',cohen_kappa_score(y_testt, a_test))\n",
    "print('test AUC-ROC score: \\t',roc_auc_score(y_testt, a_test))\n",
    "\n",
    "dtc_test_auc = roc_auc_score(y_testt, a_test)\n",
    "dtc_test_kappa = cohen_kappa_score(y_testt, a_test)"
   ]
  },
  {
   "cell_type": "markdown",
   "metadata": {},
   "source": [
    "#### Support Vector Machines (SVM)\n",
    "\n",
    "    params: \n",
    "        kernel='linear',\n",
    "        gamma = 82, \n",
    "        C = 1.4555047314930398"
   ]
  },
  {
   "cell_type": "code",
   "execution_count": 7,
   "metadata": {},
   "outputs": [
    {
     "name": "stdout",
     "output_type": "stream",
     "text": [
      "K-FOLD # 1\n",
      "Train AUC-ROC Score:  0.9749891359242686  Val AUC-ROC score:  1.0 \n",
      "\n",
      "validation kappa:- 1.0\n",
      "K-FOLD # 2\n",
      "Train AUC-ROC Score:  0.9750723217618514  Val AUC-ROC score:  1.0 \n",
      "\n",
      "validation kappa:- 1.0\n",
      "K-FOLD # 3\n",
      "Train AUC-ROC Score:  0.9750723217618514  Val AUC-ROC score:  1.0 \n",
      "\n",
      "validation kappa:- 1.0\n",
      "K-FOLD # 4\n",
      "Train AUC-ROC Score:  0.9865521541025253  Val AUC-ROC score:  0.9410469667318982 \n",
      "\n",
      "validation kappa:- 0.8360769765824252\n",
      "K-FOLD # 5\n",
      "Train AUC-ROC Score:  0.9881967747949293  Val AUC-ROC score:  0.9341976516634052 \n",
      "\n",
      "validation kappa:- 0.8145938503900871\n",
      "[[66  7]\n",
      " [ 1 27]]\n",
      "              precision    recall  f1-score   support\n",
      "\n",
      "           0       0.99      0.90      0.94        73\n",
      "           1       0.79      0.96      0.87        28\n",
      "\n",
      "    accuracy                           0.92       101\n",
      "   macro avg       0.89      0.93      0.91       101\n",
      "weighted avg       0.93      0.92      0.92       101\n",
      "\n",
      "\n",
      "\n",
      "........................Testing the Model..............................\n",
      "\n",
      "0:- NSCLC Detected \t& \t1:- Normal\n",
      "\n",
      "Here we go with the confision Matrix\n",
      "\n",
      "[[162  37]\n",
      " [  0  19]]\n",
      "              precision    recall  f1-score   support\n",
      "\n",
      "           0       1.00      0.81      0.90       199\n",
      "           1       0.34      1.00      0.51        19\n",
      "\n",
      "    accuracy                           0.83       218\n",
      "   macro avg       0.67      0.91      0.70       218\n",
      "weighted avg       0.94      0.83      0.86       218\n",
      "\n",
      "test kappa: \t 0.43285051328927016\n",
      "test AUC-ROC score: \t 0.907035175879397\n"
     ]
    }
   ],
   "source": [
    "model_svm = joblib.load(SVM_weights)\n",
    "svm_val_auc = []\n",
    "svm_val_kappa = []\n",
    "k_fold = 5\n",
    "skf = StratifiedKFold(n_splits=k_fold, random_state=42)\n",
    "fold = 1\n",
    "for train_index, val_index in skf.split(x,y):  \n",
    "    X_train, X_test = x[train_index], x[val_index] \n",
    "    Y_train, Y_test = y[train_index], y[val_index]\n",
    "    \n",
    "    X_train, Y_train = sm.fit_sample(X_train, Y_train.ravel())\n",
    "    \n",
    "    a_train = model_svm.predict(X_train)\n",
    "    a_test = model_svm.predict(X_test)\n",
    "    print('K-FOLD #',fold)\n",
    "    fold+=1\n",
    "        \n",
    "    a_test1 = []\n",
    "    for i in a_test:\n",
    "        if i>0.5:\n",
    "            a_test1.append(1)\n",
    "        else:\n",
    "            a_test1.append(0)\n",
    "    \n",
    "    a_train1 = []\n",
    "    for i in a_train:\n",
    "        if i>0.5:\n",
    "            a_train1.append(1)\n",
    "        else:\n",
    "            a_train1.append(0)\n",
    "    \n",
    "    \n",
    "    print('Train AUC-ROC Score: ',roc_auc_score(a_train1,Y_train),' Val AUC-ROC score: ',roc_auc_score(Y_test,a_test1),'\\n')\n",
    "    print('validation kappa:-',cohen_kappa_score(Y_test,a_test1))\n",
    "    svm_val_auc.append(roc_auc_score(Y_test,a_test1))\n",
    "    svm_val_kappa.append(cohen_kappa_score(Y_test,a_test1))\n",
    "    \n",
    "\n",
    "print(confusion_matrix(Y_test,a_test1))\n",
    "print(classification_report(Y_test,a_test1))\n",
    "print('\\n')\n",
    "print('........................Testing the Model..............................\\n')\n",
    "y_testt = test['Disease Status (NSCLC: primary tumors; Normal: non-tumor lung tissues)']\n",
    "x_testt = test[test.columns[:-1]]\n",
    "y_testt_pred = model_svm.predict(x_testt)\n",
    "\n",
    "a_test = []\n",
    "for i in y_testt_pred:\n",
    "    if i>0.5:\n",
    "        a_test.append(1)\n",
    "    else:\n",
    "        a_test.append(0)\n",
    "\n",
    "print('0:- NSCLC Detected', '\\t& \\t1:- Normal\\n')\n",
    "\n",
    "print('Here we go with the confision Matrix\\n')\n",
    "print(confusion_matrix(y_testt,a_test))\n",
    "print(classification_report(y_testt,a_test))\n",
    "\n",
    "print('test kappa: \\t',cohen_kappa_score(y_testt, a_test))\n",
    "print('test AUC-ROC score: \\t',roc_auc_score(y_testt,a_test))\n",
    "\n",
    "\n",
    "svm_test_auc = roc_auc_score(y_testt,a_test)\n",
    "svm_test_kappa = cohen_kappa_score(y_testt, a_test)"
   ]
  },
  {
   "cell_type": "markdown",
   "metadata": {},
   "source": [
    "# Ensemble Classifiers\n",
    "\n",
    "1. CATBOOST (GPU Powered)\n",
    "2. Random Forest\n",
    "3. XGBOOST\n",
    "4. LGBM"
   ]
  },
  {
   "cell_type": "markdown",
   "metadata": {},
   "source": [
    "#### CATBOOST\n",
    "\n",
    "    params:\n",
    "        loss_function= 'Logloss',\n",
    "        iterations = 300,\n",
    "        learning_rate=.01,\n",
    "        max_depth=10, \n",
    "        eval_metric = 'AUC',\n",
    "        leaf_estimation_iterations = 10,\n",
    "        task_type=\"GPU\",\n",
    "        devices='0-6'"
   ]
  },
  {
   "cell_type": "code",
   "execution_count": 8,
   "metadata": {
    "scrolled": true
   },
   "outputs": [
    {
     "name": "stdout",
     "output_type": "stream",
     "text": [
      "K-FOLD # 1\n",
      "Train AUC-ROC Score:  0.9811643835616437  Val AUC-ROC score:  1.0 \n",
      "\n",
      "validation kappa:- 1.0\n",
      "K-FOLD # 2\n",
      "Train AUC-ROC Score:  0.9863481228668942  Val AUC-ROC score:  1.0 \n",
      "\n",
      "validation kappa:- 1.0\n",
      "K-FOLD # 3\n",
      "Train AUC-ROC Score:  0.9880546075085326  Val AUC-ROC score:  1.0 \n",
      "\n",
      "validation kappa:- 1.0\n",
      "K-FOLD # 4\n",
      "Train AUC-ROC Score:  0.9948805460750852  Val AUC-ROC score:  0.950587084148728 \n",
      "\n",
      "validation kappa:- 0.901174168297456\n",
      "K-FOLD # 5\n",
      "Train AUC-ROC Score:  0.9914675767918089  Val AUC-ROC score:  0.9684442270058709 \n",
      "\n",
      "validation kappa:- 0.9266876360996854\n"
     ]
    }
   ],
   "source": [
    "model_ctb = joblib.load(catboost_weights) \n",
    "CBT_val_auc = []\n",
    "CBT_val_kappa = []\n",
    "kfold = 5\n",
    "np.random.seed(2)\n",
    "skf = StratifiedKFold(n_splits=kfold, random_state=42)\n",
    "\n",
    "fold = 1\n",
    "for train_index, val_index in skf.split(x,y): \n",
    "    X_train, X_test = x[train_index], x[val_index] \n",
    "    Y_train, Y_test = y[train_index], y[val_index]\n",
    "    \n",
    "    X_train, Y_train = sm.fit_sample(X_train, Y_train.ravel())\n",
    "    \n",
    "    a_train = model_ctb.predict(X_train)\n",
    "    a_test = model_ctb.predict(X_test)\n",
    "    print('K-FOLD #',fold)\n",
    "    fold+=1\n",
    "    print('Train AUC-ROC Score: ',roc_auc_score(Y_train,a_train),' Val AUC-ROC score: ',roc_auc_score(Y_test,a_test),'\\n')\n",
    "    print('validation kappa:-',cohen_kappa_score(Y_test,a_test))\n",
    "    \n",
    "    \n",
    "    \n",
    "    CBT_val_auc.append(roc_auc_score(Y_test,a_test))\n",
    "    CBT_val_kappa.append(roc_auc_score(Y_test,a_test))"
   ]
  },
  {
   "cell_type": "markdown",
   "metadata": {},
   "source": [
    "### confusion matrix for catboost model on validation dataset"
   ]
  },
  {
   "cell_type": "code",
   "execution_count": 9,
   "metadata": {
    "scrolled": false
   },
   "outputs": [
    {
     "name": "stdout",
     "output_type": "stream",
     "text": [
      "[[71  2]\n",
      " [ 1 27]]\n",
      "              precision    recall  f1-score   support\n",
      "\n",
      "           0       0.99      0.97      0.98        73\n",
      "           1       0.93      0.96      0.95        28\n",
      "\n",
      "    accuracy                           0.97       101\n",
      "   macro avg       0.96      0.97      0.96       101\n",
      "weighted avg       0.97      0.97      0.97       101\n",
      "\n"
     ]
    }
   ],
   "source": [
    "print(confusion_matrix(Y_test,a_test))\n",
    "print(classification_report(Y_test,a_test))"
   ]
  },
  {
   "cell_type": "markdown",
   "metadata": {},
   "source": [
    "### confusion matrix for catboost model on test dataset"
   ]
  },
  {
   "cell_type": "code",
   "execution_count": 10,
   "metadata": {},
   "outputs": [
    {
     "name": "stdout",
     "output_type": "stream",
     "text": [
      "0:- NSCLC Detected \t& \t1:- Normal\n",
      "\n",
      "[[199   0]\n",
      " [  9  10]]\n",
      "              precision    recall  f1-score   support\n",
      "\n",
      "           0       0.96      1.00      0.98       199\n",
      "           1       1.00      0.53      0.69        19\n",
      "\n",
      "    accuracy                           0.96       218\n",
      "   macro avg       0.98      0.76      0.83       218\n",
      "weighted avg       0.96      0.96      0.95       218\n",
      "\n",
      "test kappa:- 0.6698081454055873\n",
      "test AUC-ROC score 0.763157894736842\n"
     ]
    }
   ],
   "source": [
    "y_testt = test['Disease Status (NSCLC: primary tumors; Normal: non-tumor lung tissues)']\n",
    "x_testt = test[test.columns[:-1]]\n",
    "y_test_test = model_ctb.predict(x_testt)\n",
    "print('0:- NSCLC Detected', '\\t& \\t1:- Normal\\n')\n",
    "print(confusion_matrix(y_testt,y_test_test))\n",
    "print(classification_report(y_testt,y_test_test))\n",
    "\n",
    "print('test kappa:-',cohen_kappa_score(y_testt, y_test_test))\n",
    "print('test AUC-ROC score',roc_auc_score(y_testt,y_test_test))\n",
    "\n",
    "\n",
    "CBT_test_auc = roc_auc_score(y_testt, y_test_test)\n",
    "CBT_test_kappa = cohen_kappa_score(y_testt, y_test_test)"
   ]
  },
  {
   "cell_type": "markdown",
   "metadata": {},
   "source": [
    "#### Random Forest\n",
    "\n",
    "    params:\n",
    "        n_estimators=int(10.27)\n",
    "        bootstrap = True\n",
    "        max_depth = 3\n",
    "        max_features = 8\n",
    "        max_leaf_nodes = 17\n",
    "        n_jobs = 9\n",
    "        random_state = 42"
   ]
  },
  {
   "cell_type": "code",
   "execution_count": 11,
   "metadata": {},
   "outputs": [
    {
     "name": "stdout",
     "output_type": "stream",
     "text": [
      "K-FOLD # 1\n",
      "Train AUC-ROC Score:  0.958904109589041  Val AUC-ROC score:  0.9551158301158301 \n",
      "\n",
      "validation kappa:- 0.8808967772069126\n",
      "K-FOLD # 2\n",
      "Train AUC-ROC Score:  0.9607508532423208  Val AUC-ROC score:  0.9586679263108171 \n",
      "\n",
      "validation kappa:- 0.9269689737470167\n",
      "K-FOLD # 3\n",
      "Train AUC-ROC Score:  0.9522184300341298  Val AUC-ROC score:  0.9931506849315068 \n",
      "\n",
      "validation kappa:- 0.9755625453665618\n",
      "K-FOLD # 4\n",
      "Train AUC-ROC Score:  0.9829351535836178  Val AUC-ROC score:  0.8764677103718199 \n",
      "\n",
      "validation kappa:- 0.75293542074364\n",
      "K-FOLD # 5\n",
      "Train AUC-ROC Score:  0.9573378839590443  Val AUC-ROC score:  0.9931506849315068 \n",
      "\n",
      "validation kappa:- 0.9755625453665618\n",
      "[[72  1]\n",
      " [ 0 28]]\n",
      "              precision    recall  f1-score   support\n",
      "\n",
      "           0       1.00      0.99      0.99        73\n",
      "           1       0.97      1.00      0.98        28\n",
      "\n",
      "    accuracy                           0.99       101\n",
      "   macro avg       0.98      0.99      0.99       101\n",
      "weighted avg       0.99      0.99      0.99       101\n",
      "\n",
      "\n",
      "\n",
      "........................Testing the Model..............................\n",
      "\n",
      "0:- NSCLC Detected \t& \t1:- Normal\n",
      "\n",
      "Here we go with the confision Matrix\n",
      "\n",
      "[[199   0]\n",
      " [ 14   5]]\n",
      "              precision    recall  f1-score   support\n",
      "\n",
      "           0       0.93      1.00      0.97       199\n",
      "           1       1.00      0.26      0.42        19\n",
      "\n",
      "    accuracy                           0.94       218\n",
      "   macro avg       0.97      0.63      0.69       218\n",
      "weighted avg       0.94      0.94      0.92       218\n",
      "\n",
      "test kappa: \t 0.3946846489488298\n",
      "test AUC-ROC score: \t 0.631578947368421\n"
     ]
    }
   ],
   "source": [
    "model_rf = joblib.load(random_forest_weights) \n",
    "RFC_val_auc = []\n",
    "RFC_val_kappa = []\n",
    "skf = StratifiedKFold(n_splits=5, random_state=42)\n",
    "# X is the feature set and y is the target\n",
    "fold = 1\n",
    "for train_index, val_index in skf.split(x,y): \n",
    "    #print(\"Train:\", train_index, \"Validation:\", val_index) \n",
    "    X_train, X_test = x[train_index], x[val_index] \n",
    "    Y_train, Y_test = y[train_index], y[val_index]\n",
    "    \n",
    "    X_train, Y_train = sm.fit_sample(X_train, Y_train.ravel())  \n",
    "    a_train = model_rf.predict(X_train)\n",
    "    a_test = model_rf.predict(X_test)\n",
    "    print('K-FOLD #',fold)\n",
    "    fold+=1\n",
    "    print('Train AUC-ROC Score: ',roc_auc_score(Y_train,a_train),' Val AUC-ROC score: ',roc_auc_score(Y_test,a_test),'\\n')\n",
    "    print('validation kappa:-',cohen_kappa_score(Y_test,a_test))    \n",
    "    RFC_val_auc.append(roc_auc_score(Y_test,a_test))\n",
    "    RFC_val_kappa.append(roc_auc_score(Y_test,a_test))\n",
    "print(confusion_matrix(Y_test,a_test))\n",
    "print(classification_report(Y_test,a_test))\n",
    "print('\\n')\n",
    "print('........................Testing the Model..............................\\n')\n",
    "y_testt = test['Disease Status (NSCLC: primary tumors; Normal: non-tumor lung tissues)']\n",
    "x_testt = test[test.columns[:-1]]\n",
    "y_testt_pred = model_rf.predict(x_testt)\n",
    "\n",
    "a_test = []\n",
    "for i in y_testt_pred:\n",
    "    if i>0.5:\n",
    "        a_test.append(1)\n",
    "    else:\n",
    "        a_test.append(0)\n",
    "\n",
    "print('0:- NSCLC Detected', '\\t& \\t1:- Normal\\n')\n",
    "\n",
    "print('Here we go with the confision Matrix\\n')\n",
    "print(confusion_matrix(y_testt,a_test))\n",
    "print(classification_report(y_testt,a_test))\n",
    "\n",
    "print('test kappa: \\t',cohen_kappa_score(y_testt, a_test))\n",
    "print('test AUC-ROC score: \\t',roc_auc_score(y_testt,a_test))\n",
    "RFC_test_auc = roc_auc_score(y_testt, a_test)\n",
    "RFC_test_kappa = cohen_kappa_score(y_testt, a_test)"
   ]
  },
  {
   "cell_type": "markdown",
   "metadata": {},
   "source": [
    "#### XGBOOST\n",
    "\n",
    "    params: {\n",
    "        'min_child_weight': 10.0,\n",
    "        'lambda': 0.3397604475560514,\n",
    "        'objective': 'binary:logistic',\n",
    "        'max_depth': 20,\n",
    "        'alpha': 5.7154910613882356e-05,\n",
    "        'max_delta_step': 0.1,\n",
    "        'eta': 0.1673343679061888,\n",
    "        'colsample_bytree': 0.4,\n",
    "        'subsample': 0.8,\n",
    "        'eta': 0.1673343679061888,\n",
    "        'gamma': 1.019025732933819e-06,\n",
    "        'grow_policy': 'depthwise',\n",
    "        'eval_metric' : 'auc',\n",
    "        'silent': 1,\n",
    "        'num_boost_round' : 700,\n",
    "    }"
   ]
  },
  {
   "cell_type": "code",
   "execution_count": 12,
   "metadata": {
    "scrolled": true
   },
   "outputs": [
    {
     "name": "stdout",
     "output_type": "stream",
     "text": [
      "[Fold 1/5]\n",
      "train AUC-ROC:- 0.9828767123287672\n",
      "val AUC-ROC:- 0.972972972972973\n",
      "val kappa:- 0.9057301293900185\n",
      "[Fold 1/5 Prediciton:]\n",
      "[Fold 2/5]\n",
      "train AUC-ROC:- 0.9778156996587031\n",
      "val AUC-ROC:- 0.9655172413793103\n",
      "val kappa:- 0.9507959479015919\n",
      "[Fold 1/5 Prediciton:]\n",
      "[Fold 3/5]\n",
      "train AUC-ROC:- 0.9761092150170649\n",
      "val AUC-ROC:- 1.0\n",
      "val kappa:- 1.0\n",
      "[Fold 1/5 Prediciton:]\n",
      "[Fold 4/5]\n",
      "train AUC-ROC:- 0.9846416382252561\n",
      "val AUC-ROC:- 0.950587084148728\n",
      "val kappa:- 0.901174168297456\n",
      "[Fold 1/5 Prediciton:]\n",
      "[Fold 5/5]\n",
      "train AUC-ROC:- 0.9812286689419795\n",
      "val AUC-ROC:- 0.9684442270058709\n",
      "val kappa:- 0.9266876360996854\n",
      "[Fold 1/5 Prediciton:]\n"
     ]
    }
   ],
   "source": [
    "kfold = 5\n",
    "skf = StratifiedKFold(n_splits=kfold, random_state=42)\n",
    "model_xgb = joblib.load(xgboost_weights) \n",
    "XGB_val_auc = []\n",
    "XGB_val_kappa = []\n",
    "for i, (train_index, test_index) in enumerate(skf.split(x, y)):\n",
    "    print('[Fold %d/%d]' % (i + 1, kfold))\n",
    "    X_train, X_valid = x[train_index], x[test_index]\n",
    "    y_train, y_valid = y[train_index], y[test_index]\n",
    "    X_train, y_train = sm.fit_sample(X_train, y_train.ravel())    \n",
    "    # Convert our data into XGBoost format\n",
    "    d_train = xgb.DMatrix(X_train, y_train)\n",
    "    d_valid = xgb.DMatrix(X_valid, y_valid)\n",
    "    watchlist = [(d_train, 'train'), (d_valid, 'valid')] \n",
    "    a_train = model_xgb.predict(d_train)\n",
    "    a_valid = model_xgb.predict(d_valid)\n",
    "    \n",
    "    at = []\n",
    "    for i in a_train:\n",
    "        if i>0.6:\n",
    "            at.append(1)\n",
    "        else:\n",
    "            at.append(0)\n",
    "    \n",
    "    \n",
    "    a = []\n",
    "    for i in a_valid:\n",
    "        if i>0.6:\n",
    "            a.append(1)\n",
    "        else:\n",
    "            a.append(0)\n",
    "    print('train AUC-ROC:-',roc_auc_score(y_train, at))\n",
    "    print('val AUC-ROC:-',roc_auc_score(y_valid, a))\n",
    "    print('val kappa:-',cohen_kappa_score(y_valid, a))\n",
    "    print('[Fold %d/%d Prediciton:]' % (i + 1, kfold))\n",
    "    XGB_val_auc.append(roc_auc_score(y_valid, a))\n",
    "    XGB_val_kappa.append(roc_auc_score(y_valid, a))"
   ]
  },
  {
   "cell_type": "markdown",
   "metadata": {},
   "source": [
    "### testing on independent test data set using XGBOOST"
   ]
  },
  {
   "cell_type": "code",
   "execution_count": 13,
   "metadata": {},
   "outputs": [
    {
     "name": "stdout",
     "output_type": "stream",
     "text": [
      "0:- NSCLC Detected \t& \t1:- Normal\n",
      "\n",
      "[[199   0]\n",
      " [  0  19]]\n",
      "              precision    recall  f1-score   support\n",
      "\n",
      "           0       1.00      1.00      1.00       199\n",
      "           1       1.00      1.00      1.00        19\n",
      "\n",
      "    accuracy                           1.00       218\n",
      "   macro avg       1.00      1.00      1.00       218\n",
      "weighted avg       1.00      1.00      1.00       218\n",
      "\n",
      "test kappa:- 1.0\n",
      "test AUC-ROC score 1.0\n"
     ]
    }
   ],
   "source": [
    "y_testt = test['Disease Status (NSCLC: primary tumors; Normal: non-tumor lung tissues)']\n",
    "x_testt = test[test.columns[:-1]]\n",
    "x_testt = xgb.DMatrix(np.array(x_testt),y_testt)\n",
    "y_testt_pred = model_xgb.predict(x_testt)\n",
    "\n",
    "a_test = []\n",
    "for i in y_testt_pred:\n",
    "    if i>0.6:\n",
    "        a_test.append(1)\n",
    "    else:\n",
    "        a_test.append(0)\n",
    "print('0:- NSCLC Detected', '\\t& \\t1:- Normal\\n')\n",
    "print(confusion_matrix(y_testt,a_test))\n",
    "print(classification_report(y_testt,a_test))\n",
    "print('test kappa:-',cohen_kappa_score(y_testt, a_test))\n",
    "print('test AUC-ROC score',roc_auc_score(y_testt,a_test))\n",
    "XGB_test_auc = roc_auc_score(y_testt,a_test)\n",
    "XGB_test_kappa = cohen_kappa_score(y_testt,a_test)"
   ]
  },
  {
   "cell_type": "markdown",
   "metadata": {},
   "source": [
    "#### LGBM:\n",
    "\n",
    "    params: \n",
    "        iterations = 1000,\n",
    "        subsample=.8,\n",
    "        learning_rate=.1,\n",
    "        max_depth=10, max_delta_step = 0.1, alpha = 5.71, min_child_weight = 10, eta = 0.167, cosample_bytree = 0.4,\n",
    "        num_boost_round = 700"
   ]
  },
  {
   "cell_type": "code",
   "execution_count": 14,
   "metadata": {},
   "outputs": [
    {
     "name": "stdout",
     "output_type": "stream",
     "text": [
      "K-FOLD # 1\n",
      "Train AUC-ROC Score:  0.9743150684931506  Val AUC-ROC score:  0.9797297297297297 \n",
      "\n",
      "validation kappa:- 0.9285380663241476\n",
      "K-FOLD # 2\n",
      "Train AUC-ROC Score:  0.9744027303754266  Val AUC-ROC score:  0.9827586206896552 \n",
      "\n",
      "validation kappa:- 0.9756563245823389\n",
      "K-FOLD # 3\n",
      "Train AUC-ROC Score:  0.9744027303754266  Val AUC-ROC score:  1.0 \n",
      "\n",
      "validation kappa:- 1.0\n",
      "K-FOLD # 4\n",
      "Train AUC-ROC Score:  0.9880546075085324  Val AUC-ROC score:  0.9300391389432485 \n",
      "\n",
      "validation kappa:- 0.8325834714657826\n",
      "K-FOLD # 5\n",
      "Train AUC-ROC Score:  0.9744027303754266  Val AUC-ROC score:  0.9684442270058709 \n",
      "\n",
      "validation kappa:- 0.9266876360996854\n"
     ]
    }
   ],
   "source": [
    "kfold = 5\n",
    "skf = StratifiedKFold(n_splits=kfold, random_state=42)\n",
    "model_lgb = joblib.load(lgbm_weights) \n",
    "LGB_val_auc = []\n",
    "LGB_val_kappa = []\n",
    "fold = 1\n",
    "for train_index, val_index in skf.split(x,y): \n",
    "    X_train, X_test = x[train_index], x[val_index] \n",
    "    Y_train, Y_test = y[train_index], y[val_index]\n",
    "    X_train, Y_train = sm.fit_sample(X_train, Y_train.ravel())\n",
    "    a_train = model_lgb.predict(X_train)\n",
    "    a_test = model_lgb.predict(X_test)\n",
    "    print('K-FOLD #',fold)\n",
    "    fold+=1\n",
    "    print('Train AUC-ROC Score: ',roc_auc_score(Y_train,a_train),' Val AUC-ROC score: ',roc_auc_score(Y_test,a_test),'\\n')\n",
    "    print('validation kappa:-',cohen_kappa_score(Y_test,a_test))\n",
    "    LGB_val_auc.append(roc_auc_score(Y_test,a_test))\n",
    "    LGB_val_kappa.append(roc_auc_score(Y_test,a_test))"
   ]
  },
  {
   "cell_type": "markdown",
   "metadata": {},
   "source": [
    "### Testing LGBM on independent test data-set"
   ]
  },
  {
   "cell_type": "code",
   "execution_count": 15,
   "metadata": {},
   "outputs": [
    {
     "name": "stdout",
     "output_type": "stream",
     "text": [
      "0:- NSCLC Detected \t& \t1:- Normal\n",
      "\n",
      "[[197   2]\n",
      " [  0  19]]\n",
      "              precision    recall  f1-score   support\n",
      "\n",
      "           0       1.00      0.99      0.99       199\n",
      "           1       0.90      1.00      0.95        19\n",
      "\n",
      "    accuracy                           0.99       218\n",
      "   macro avg       0.95      0.99      0.97       218\n",
      "weighted avg       0.99      0.99      0.99       218\n",
      "\n",
      "test kappa:- 0.944963393082555\n",
      "test AUC-ROC score 0.9949748743718593\n"
     ]
    }
   ],
   "source": [
    "y_testt = test['Disease Status (NSCLC: primary tumors; Normal: non-tumor lung tissues)']\n",
    "x_testt = test[test.columns[:-1]]\n",
    "y_testt_pred = model_lgb.predict(x_testt)\n",
    "\n",
    "a_test = []\n",
    "for i in y_testt_pred:\n",
    "    if i>0.6:\n",
    "        a_test.append(1)\n",
    "    else:\n",
    "        a_test.append(0)\n",
    "print('0:- NSCLC Detected', '\\t& \\t1:- Normal\\n')\n",
    "print(confusion_matrix(y_testt,a_test))\n",
    "print(classification_report(y_testt,a_test))\n",
    "print('test kappa:-',cohen_kappa_score(y_testt, a_test))\n",
    "print('test AUC-ROC score',roc_auc_score(y_testt,a_test))\n",
    "\n",
    "LGB_test_auc = roc_auc_score(y_testt,a_test)\n",
    "LGB_test_kappa = cohen_kappa_score(y_testt,a_test)"
   ]
  },
  {
   "cell_type": "markdown",
   "metadata": {},
   "source": [
    "# Visualization of comparision among different models"
   ]
  },
  {
   "cell_type": "code",
   "execution_count": 33,
   "metadata": {},
   "outputs": [
    {
     "data": {
      "application/vnd.plotly.v1+json": {
       "config": {
        "plotlyServerURL": "https://plot.ly"
       },
       "data": [
        {
         "boxpoints": "all",
         "jitter": 0.2,
         "marker": {
          "color": "rgb(31, 119, 180)"
         },
         "name": "Logistic Regression",
         "pointpos": -1.5,
         "type": "box",
         "y": [
          0.972972972972973,
          0.944969296173831,
          0.9931506849315068,
          0.9383561643835616,
          0.9547455968688846
         ]
        },
        {
         "boxpoints": "all",
         "jitter": 0.2,
         "marker": {
          "color": "rgb(255, 127, 14)"
         },
         "name": "Decision Trees",
         "pointpos": -1.5,
         "type": "box",
         "y": [
          0.9194015444015444,
          0.9208786017949929,
          0.9684442270058709,
          0.858610567514677,
          0.8806262230919766
         ]
        },
        {
         "boxpoints": "all",
         "jitter": 0.2,
         "marker": {
          "color": "rgb(44, 160, 44)"
         },
         "name": "SVM",
         "pointpos": -1.5,
         "type": "box",
         "y": [
          1,
          1,
          1,
          0.9410469667318982,
          0.9341976516634052
         ]
        },
        {
         "boxpoints": "all",
         "jitter": 0.2,
         "marker": {
          "color": "rgb(214, 39, 40)"
         },
         "name": "CatBoost",
         "pointpos": -1.5,
         "type": "box",
         "y": [
          1,
          1,
          1,
          0.950587084148728,
          0.9684442270058709
         ]
        },
        {
         "boxpoints": "all",
         "jitter": 0.2,
         "marker": {
          "color": "rgb(148, 103, 189)"
         },
         "name": "Random Forest",
         "pointpos": -1.5,
         "type": "box",
         "y": [
          0.9551158301158301,
          0.9586679263108171,
          0.9931506849315068,
          0.8764677103718199,
          0.9931506849315068
         ]
        },
        {
         "boxpoints": "all",
         "jitter": 0.2,
         "marker": {
          "color": "rgb(140, 86, 75)"
         },
         "name": "XGBoost",
         "pointpos": -1.5,
         "type": "box",
         "y": [
          0.972972972972973,
          0.9655172413793103,
          1,
          0.950587084148728,
          0.9684442270058709
         ]
        },
        {
         "boxpoints": "all",
         "jitter": 0.2,
         "marker": {
          "color": "rgb(227, 119, 194)"
         },
         "name": "LightBoost",
         "type": "box",
         "y": [
          0.9797297297297297,
          0.9827586206896552,
          1,
          0.9300391389432485,
          0.9684442270058709
         ]
        }
       ],
       "layout": {
        "template": {
         "data": {
          "bar": [
           {
            "error_x": {
             "color": "#2a3f5f"
            },
            "error_y": {
             "color": "#2a3f5f"
            },
            "marker": {
             "line": {
              "color": "#E5ECF6",
              "width": 0.5
             }
            },
            "type": "bar"
           }
          ],
          "barpolar": [
           {
            "marker": {
             "line": {
              "color": "#E5ECF6",
              "width": 0.5
             }
            },
            "type": "barpolar"
           }
          ],
          "carpet": [
           {
            "aaxis": {
             "endlinecolor": "#2a3f5f",
             "gridcolor": "white",
             "linecolor": "white",
             "minorgridcolor": "white",
             "startlinecolor": "#2a3f5f"
            },
            "baxis": {
             "endlinecolor": "#2a3f5f",
             "gridcolor": "white",
             "linecolor": "white",
             "minorgridcolor": "white",
             "startlinecolor": "#2a3f5f"
            },
            "type": "carpet"
           }
          ],
          "choropleth": [
           {
            "colorbar": {
             "outlinewidth": 0,
             "ticks": ""
            },
            "type": "choropleth"
           }
          ],
          "contour": [
           {
            "colorbar": {
             "outlinewidth": 0,
             "ticks": ""
            },
            "colorscale": [
             [
              0,
              "#0d0887"
             ],
             [
              0.1111111111111111,
              "#46039f"
             ],
             [
              0.2222222222222222,
              "#7201a8"
             ],
             [
              0.3333333333333333,
              "#9c179e"
             ],
             [
              0.4444444444444444,
              "#bd3786"
             ],
             [
              0.5555555555555556,
              "#d8576b"
             ],
             [
              0.6666666666666666,
              "#ed7953"
             ],
             [
              0.7777777777777778,
              "#fb9f3a"
             ],
             [
              0.8888888888888888,
              "#fdca26"
             ],
             [
              1,
              "#f0f921"
             ]
            ],
            "type": "contour"
           }
          ],
          "contourcarpet": [
           {
            "colorbar": {
             "outlinewidth": 0,
             "ticks": ""
            },
            "type": "contourcarpet"
           }
          ],
          "heatmap": [
           {
            "colorbar": {
             "outlinewidth": 0,
             "ticks": ""
            },
            "colorscale": [
             [
              0,
              "#0d0887"
             ],
             [
              0.1111111111111111,
              "#46039f"
             ],
             [
              0.2222222222222222,
              "#7201a8"
             ],
             [
              0.3333333333333333,
              "#9c179e"
             ],
             [
              0.4444444444444444,
              "#bd3786"
             ],
             [
              0.5555555555555556,
              "#d8576b"
             ],
             [
              0.6666666666666666,
              "#ed7953"
             ],
             [
              0.7777777777777778,
              "#fb9f3a"
             ],
             [
              0.8888888888888888,
              "#fdca26"
             ],
             [
              1,
              "#f0f921"
             ]
            ],
            "type": "heatmap"
           }
          ],
          "heatmapgl": [
           {
            "colorbar": {
             "outlinewidth": 0,
             "ticks": ""
            },
            "colorscale": [
             [
              0,
              "#0d0887"
             ],
             [
              0.1111111111111111,
              "#46039f"
             ],
             [
              0.2222222222222222,
              "#7201a8"
             ],
             [
              0.3333333333333333,
              "#9c179e"
             ],
             [
              0.4444444444444444,
              "#bd3786"
             ],
             [
              0.5555555555555556,
              "#d8576b"
             ],
             [
              0.6666666666666666,
              "#ed7953"
             ],
             [
              0.7777777777777778,
              "#fb9f3a"
             ],
             [
              0.8888888888888888,
              "#fdca26"
             ],
             [
              1,
              "#f0f921"
             ]
            ],
            "type": "heatmapgl"
           }
          ],
          "histogram": [
           {
            "marker": {
             "colorbar": {
              "outlinewidth": 0,
              "ticks": ""
             }
            },
            "type": "histogram"
           }
          ],
          "histogram2d": [
           {
            "colorbar": {
             "outlinewidth": 0,
             "ticks": ""
            },
            "colorscale": [
             [
              0,
              "#0d0887"
             ],
             [
              0.1111111111111111,
              "#46039f"
             ],
             [
              0.2222222222222222,
              "#7201a8"
             ],
             [
              0.3333333333333333,
              "#9c179e"
             ],
             [
              0.4444444444444444,
              "#bd3786"
             ],
             [
              0.5555555555555556,
              "#d8576b"
             ],
             [
              0.6666666666666666,
              "#ed7953"
             ],
             [
              0.7777777777777778,
              "#fb9f3a"
             ],
             [
              0.8888888888888888,
              "#fdca26"
             ],
             [
              1,
              "#f0f921"
             ]
            ],
            "type": "histogram2d"
           }
          ],
          "histogram2dcontour": [
           {
            "colorbar": {
             "outlinewidth": 0,
             "ticks": ""
            },
            "colorscale": [
             [
              0,
              "#0d0887"
             ],
             [
              0.1111111111111111,
              "#46039f"
             ],
             [
              0.2222222222222222,
              "#7201a8"
             ],
             [
              0.3333333333333333,
              "#9c179e"
             ],
             [
              0.4444444444444444,
              "#bd3786"
             ],
             [
              0.5555555555555556,
              "#d8576b"
             ],
             [
              0.6666666666666666,
              "#ed7953"
             ],
             [
              0.7777777777777778,
              "#fb9f3a"
             ],
             [
              0.8888888888888888,
              "#fdca26"
             ],
             [
              1,
              "#f0f921"
             ]
            ],
            "type": "histogram2dcontour"
           }
          ],
          "mesh3d": [
           {
            "colorbar": {
             "outlinewidth": 0,
             "ticks": ""
            },
            "type": "mesh3d"
           }
          ],
          "parcoords": [
           {
            "line": {
             "colorbar": {
              "outlinewidth": 0,
              "ticks": ""
             }
            },
            "type": "parcoords"
           }
          ],
          "pie": [
           {
            "automargin": true,
            "type": "pie"
           }
          ],
          "scatter": [
           {
            "marker": {
             "colorbar": {
              "outlinewidth": 0,
              "ticks": ""
             }
            },
            "type": "scatter"
           }
          ],
          "scatter3d": [
           {
            "line": {
             "colorbar": {
              "outlinewidth": 0,
              "ticks": ""
             }
            },
            "marker": {
             "colorbar": {
              "outlinewidth": 0,
              "ticks": ""
             }
            },
            "type": "scatter3d"
           }
          ],
          "scattercarpet": [
           {
            "marker": {
             "colorbar": {
              "outlinewidth": 0,
              "ticks": ""
             }
            },
            "type": "scattercarpet"
           }
          ],
          "scattergeo": [
           {
            "marker": {
             "colorbar": {
              "outlinewidth": 0,
              "ticks": ""
             }
            },
            "type": "scattergeo"
           }
          ],
          "scattergl": [
           {
            "marker": {
             "colorbar": {
              "outlinewidth": 0,
              "ticks": ""
             }
            },
            "type": "scattergl"
           }
          ],
          "scattermapbox": [
           {
            "marker": {
             "colorbar": {
              "outlinewidth": 0,
              "ticks": ""
             }
            },
            "type": "scattermapbox"
           }
          ],
          "scatterpolar": [
           {
            "marker": {
             "colorbar": {
              "outlinewidth": 0,
              "ticks": ""
             }
            },
            "type": "scatterpolar"
           }
          ],
          "scatterpolargl": [
           {
            "marker": {
             "colorbar": {
              "outlinewidth": 0,
              "ticks": ""
             }
            },
            "type": "scatterpolargl"
           }
          ],
          "scatterternary": [
           {
            "marker": {
             "colorbar": {
              "outlinewidth": 0,
              "ticks": ""
             }
            },
            "type": "scatterternary"
           }
          ],
          "surface": [
           {
            "colorbar": {
             "outlinewidth": 0,
             "ticks": ""
            },
            "colorscale": [
             [
              0,
              "#0d0887"
             ],
             [
              0.1111111111111111,
              "#46039f"
             ],
             [
              0.2222222222222222,
              "#7201a8"
             ],
             [
              0.3333333333333333,
              "#9c179e"
             ],
             [
              0.4444444444444444,
              "#bd3786"
             ],
             [
              0.5555555555555556,
              "#d8576b"
             ],
             [
              0.6666666666666666,
              "#ed7953"
             ],
             [
              0.7777777777777778,
              "#fb9f3a"
             ],
             [
              0.8888888888888888,
              "#fdca26"
             ],
             [
              1,
              "#f0f921"
             ]
            ],
            "type": "surface"
           }
          ],
          "table": [
           {
            "cells": {
             "fill": {
              "color": "#EBF0F8"
             },
             "line": {
              "color": "white"
             }
            },
            "header": {
             "fill": {
              "color": "#C8D4E3"
             },
             "line": {
              "color": "white"
             }
            },
            "type": "table"
           }
          ]
         },
         "layout": {
          "annotationdefaults": {
           "arrowcolor": "#2a3f5f",
           "arrowhead": 0,
           "arrowwidth": 1
          },
          "coloraxis": {
           "colorbar": {
            "outlinewidth": 0,
            "ticks": ""
           }
          },
          "colorscale": {
           "diverging": [
            [
             0,
             "#8e0152"
            ],
            [
             0.1,
             "#c51b7d"
            ],
            [
             0.2,
             "#de77ae"
            ],
            [
             0.3,
             "#f1b6da"
            ],
            [
             0.4,
             "#fde0ef"
            ],
            [
             0.5,
             "#f7f7f7"
            ],
            [
             0.6,
             "#e6f5d0"
            ],
            [
             0.7,
             "#b8e186"
            ],
            [
             0.8,
             "#7fbc41"
            ],
            [
             0.9,
             "#4d9221"
            ],
            [
             1,
             "#276419"
            ]
           ],
           "sequential": [
            [
             0,
             "#0d0887"
            ],
            [
             0.1111111111111111,
             "#46039f"
            ],
            [
             0.2222222222222222,
             "#7201a8"
            ],
            [
             0.3333333333333333,
             "#9c179e"
            ],
            [
             0.4444444444444444,
             "#bd3786"
            ],
            [
             0.5555555555555556,
             "#d8576b"
            ],
            [
             0.6666666666666666,
             "#ed7953"
            ],
            [
             0.7777777777777778,
             "#fb9f3a"
            ],
            [
             0.8888888888888888,
             "#fdca26"
            ],
            [
             1,
             "#f0f921"
            ]
           ],
           "sequentialminus": [
            [
             0,
             "#0d0887"
            ],
            [
             0.1111111111111111,
             "#46039f"
            ],
            [
             0.2222222222222222,
             "#7201a8"
            ],
            [
             0.3333333333333333,
             "#9c179e"
            ],
            [
             0.4444444444444444,
             "#bd3786"
            ],
            [
             0.5555555555555556,
             "#d8576b"
            ],
            [
             0.6666666666666666,
             "#ed7953"
            ],
            [
             0.7777777777777778,
             "#fb9f3a"
            ],
            [
             0.8888888888888888,
             "#fdca26"
            ],
            [
             1,
             "#f0f921"
            ]
           ]
          },
          "colorway": [
           "#636efa",
           "#EF553B",
           "#00cc96",
           "#ab63fa",
           "#FFA15A",
           "#19d3f3",
           "#FF6692",
           "#B6E880",
           "#FF97FF",
           "#FECB52"
          ],
          "font": {
           "color": "#2a3f5f"
          },
          "geo": {
           "bgcolor": "white",
           "lakecolor": "white",
           "landcolor": "#E5ECF6",
           "showlakes": true,
           "showland": true,
           "subunitcolor": "white"
          },
          "hoverlabel": {
           "align": "left"
          },
          "hovermode": "closest",
          "mapbox": {
           "style": "light"
          },
          "paper_bgcolor": "white",
          "plot_bgcolor": "#E5ECF6",
          "polar": {
           "angularaxis": {
            "gridcolor": "white",
            "linecolor": "white",
            "ticks": ""
           },
           "bgcolor": "#E5ECF6",
           "radialaxis": {
            "gridcolor": "white",
            "linecolor": "white",
            "ticks": ""
           }
          },
          "scene": {
           "xaxis": {
            "backgroundcolor": "#E5ECF6",
            "gridcolor": "white",
            "gridwidth": 2,
            "linecolor": "white",
            "showbackground": true,
            "ticks": "",
            "zerolinecolor": "white"
           },
           "yaxis": {
            "backgroundcolor": "#E5ECF6",
            "gridcolor": "white",
            "gridwidth": 2,
            "linecolor": "white",
            "showbackground": true,
            "ticks": "",
            "zerolinecolor": "white"
           },
           "zaxis": {
            "backgroundcolor": "#E5ECF6",
            "gridcolor": "white",
            "gridwidth": 2,
            "linecolor": "white",
            "showbackground": true,
            "ticks": "",
            "zerolinecolor": "white"
           }
          },
          "shapedefaults": {
           "line": {
            "color": "#2a3f5f"
           }
          },
          "ternary": {
           "aaxis": {
            "gridcolor": "white",
            "linecolor": "white",
            "ticks": ""
           },
           "baxis": {
            "gridcolor": "white",
            "linecolor": "white",
            "ticks": ""
           },
           "bgcolor": "#E5ECF6",
           "caxis": {
            "gridcolor": "white",
            "linecolor": "white",
            "ticks": ""
           }
          },
          "title": {
           "x": 0.05
          },
          "xaxis": {
           "automargin": true,
           "gridcolor": "white",
           "linecolor": "white",
           "ticks": "",
           "title": {
            "standoff": 15
           },
           "zerolinecolor": "white",
           "zerolinewidth": 2
          },
          "yaxis": {
           "automargin": true,
           "gridcolor": "white",
           "linecolor": "white",
           "ticks": "",
           "title": {
            "standoff": 15
           },
           "zerolinecolor": "white",
           "zerolinewidth": 2
          }
         }
        }
       }
      }
     },
     "metadata": {},
     "output_type": "display_data"
    }
   ],
   "source": [
    "import plotly\n",
    "colors = plotly.colors.DEFAULT_PLOTLY_COLORS.copy()\n",
    "\n",
    "# Create the basic figure and add data\n",
    "fig = go.Figure()\n",
    "\n",
    "fig.add_trace(\n",
    "\tgo.Box(\n",
    "    y = lr_val_auc,\n",
    "\t\tname = 'Logistic Regression',\n",
    "    marker_color = colors[0],\n",
    "\t\tboxpoints = 'all',\n",
    "\t\tpointpos = -1.5,\n",
    "\t\tjitter = 0.2,\n",
    "\t)\n",
    ")\n",
    "\n",
    "fig.add_trace(\n",
    "\tgo.Box(\n",
    "    y = dtc_val_auc,\n",
    "\t\tname = 'Decision Trees',\n",
    "    marker_color = colors[1],\n",
    "\t\tboxpoints = 'all',\n",
    "\t\tpointpos = -1.5,\n",
    "\t\tjitter = 0.2,\n",
    "\t)\n",
    ")\n",
    "\n",
    "fig.add_trace(\n",
    "\tgo.Box(\n",
    "    y=svm_val_auc,\n",
    "\t\tname='SVM',\n",
    "    marker_color = colors[2], #'#FF851B'\n",
    "\t\tboxpoints = 'all',\n",
    "\t\tpointpos = -1.5,\n",
    "\t\tjitter = 0.2,\n",
    "\t)\n",
    ")\n",
    "\n",
    "fig.add_trace(\n",
    "\tgo.Box(\n",
    "    y=CBT_val_auc,\n",
    "\t\tname='CatBoost',\n",
    "    marker_color = colors[3], #'#FF907B'\n",
    "\t\tboxpoints = 'all',\n",
    "\t\tpointpos = -1.5,\n",
    "\t\tjitter = 0.2,\n",
    "\t)\n",
    ")\n",
    "\n",
    "fig.add_trace(\n",
    "\tgo.Box(\n",
    "    y=RFC_val_auc,\n",
    "\t\tname='Random Forest',\n",
    "    marker_color = colors[4], #'pink'\n",
    "\t\tboxpoints = 'all',\n",
    "\t\tpointpos = -1.5,\n",
    "\t\tjitter = 0.2,\n",
    "))\n",
    "\n",
    "fig.add_trace(go.Box(\n",
    "    y=XGB_val_auc,\n",
    "\t\tname='XGBoost',\n",
    "    marker_color= colors[5], #'yellow'\n",
    "\t\tboxpoints = 'all',\n",
    "\t\tpointpos = -1.5,\n",
    "\t\tjitter = 0.2,\n",
    "))\n",
    "\n",
    "fig.add_trace(go.Box(\n",
    "    y=LGB_val_auc,\n",
    "\t\tname='LightBoost',\n",
    "    marker_color= colors[6], #'grey'\n",
    "\t\tboxpoints = 'all',\n",
    "\t\t# pointpos = 5,\n",
    "\t\tjitter = 0.2,\n",
    "))"
   ]
  },
  {
   "cell_type": "code",
   "execution_count": 25,
   "metadata": {},
   "outputs": [
    {
     "data": {
      "application/vnd.plotly.v1+json": {
       "config": {
        "plotlyServerURL": "https://plot.ly"
       },
       "data": [
        {
         "boxpoints": "all",
         "jitter": 0.2,
         "marker": {
          "color": "rgb(31, 119, 180)"
         },
         "name": "Logistic Regression",
         "pointpos": -1.5,
         "type": "box",
         "width": 0.6,
         "y": [
          0.972972972972973,
          0.944969296173831,
          0.9931506849315068,
          0.9383561643835616,
          0.9547455968688846
         ]
        },
        {
         "boxpoints": "all",
         "jitter": 0.2,
         "marker": {
          "color": "rgb(255, 127, 14)"
         },
         "name": "Decision Trees",
         "pointpos": -1.5,
         "type": "box",
         "width": 0.6,
         "y": [
          0.9194015444015444,
          0.9208786017949929,
          0.9684442270058709,
          0.858610567514677,
          0.8806262230919766
         ]
        },
        {
         "boxpoints": "all",
         "jitter": 0.2,
         "marker": {
          "color": "rgb(44, 160, 44)"
         },
         "name": "SVM",
         "pointpos": -1.5,
         "type": "box",
         "width": 0.6,
         "y": [
          1,
          1,
          1,
          0.9410469667318982,
          0.9341976516634052
         ]
        },
        {
         "boxpoints": "all",
         "jitter": 0.2,
         "marker": {
          "color": "rgb(214, 39, 40)"
         },
         "name": "CatBoost",
         "pointpos": -1.5,
         "type": "box",
         "width": 0.6,
         "y": [
          1,
          1,
          1,
          0.950587084148728,
          0.9684442270058709
         ]
        },
        {
         "boxpoints": "all",
         "jitter": 0.2,
         "marker": {
          "color": "rgb(148, 103, 189)"
         },
         "name": "Random Forest",
         "pointpos": -1.5,
         "type": "box",
         "width": 0.6,
         "y": [
          0.9551158301158301,
          0.9586679263108171,
          0.9931506849315068,
          0.8764677103718199,
          0.9931506849315068
         ]
        },
        {
         "boxpoints": "all",
         "jitter": 0.2,
         "marker": {
          "color": "rgb(140, 86, 75)"
         },
         "name": "XGBoost",
         "pointpos": -1.5,
         "type": "box",
         "width": 0.6,
         "y": [
          0.972972972972973,
          0.9655172413793103,
          1,
          0.950587084148728,
          0.9684442270058709
         ]
        },
        {
         "boxpoints": "all",
         "jitter": 0.2,
         "marker": {
          "color": "rgb(227, 119, 194)"
         },
         "name": "LightBoost",
         "pointpos": -1.5,
         "type": "box",
         "width": 0.6,
         "y": [
          0.9797297297297297,
          0.9827586206896552,
          1,
          0.9300391389432485,
          0.9684442270058709
         ]
        }
       ],
       "layout": {
        "boxmode": "group",
        "plot_bgcolor": "white",
        "showlegend": false,
        "template": {
         "data": {
          "bar": [
           {
            "error_x": {
             "color": "#2a3f5f"
            },
            "error_y": {
             "color": "#2a3f5f"
            },
            "marker": {
             "line": {
              "color": "#E5ECF6",
              "width": 0.5
             }
            },
            "type": "bar"
           }
          ],
          "barpolar": [
           {
            "marker": {
             "line": {
              "color": "#E5ECF6",
              "width": 0.5
             }
            },
            "type": "barpolar"
           }
          ],
          "carpet": [
           {
            "aaxis": {
             "endlinecolor": "#2a3f5f",
             "gridcolor": "white",
             "linecolor": "white",
             "minorgridcolor": "white",
             "startlinecolor": "#2a3f5f"
            },
            "baxis": {
             "endlinecolor": "#2a3f5f",
             "gridcolor": "white",
             "linecolor": "white",
             "minorgridcolor": "white",
             "startlinecolor": "#2a3f5f"
            },
            "type": "carpet"
           }
          ],
          "choropleth": [
           {
            "colorbar": {
             "outlinewidth": 0,
             "ticks": ""
            },
            "type": "choropleth"
           }
          ],
          "contour": [
           {
            "colorbar": {
             "outlinewidth": 0,
             "ticks": ""
            },
            "colorscale": [
             [
              0,
              "#0d0887"
             ],
             [
              0.1111111111111111,
              "#46039f"
             ],
             [
              0.2222222222222222,
              "#7201a8"
             ],
             [
              0.3333333333333333,
              "#9c179e"
             ],
             [
              0.4444444444444444,
              "#bd3786"
             ],
             [
              0.5555555555555556,
              "#d8576b"
             ],
             [
              0.6666666666666666,
              "#ed7953"
             ],
             [
              0.7777777777777778,
              "#fb9f3a"
             ],
             [
              0.8888888888888888,
              "#fdca26"
             ],
             [
              1,
              "#f0f921"
             ]
            ],
            "type": "contour"
           }
          ],
          "contourcarpet": [
           {
            "colorbar": {
             "outlinewidth": 0,
             "ticks": ""
            },
            "type": "contourcarpet"
           }
          ],
          "heatmap": [
           {
            "colorbar": {
             "outlinewidth": 0,
             "ticks": ""
            },
            "colorscale": [
             [
              0,
              "#0d0887"
             ],
             [
              0.1111111111111111,
              "#46039f"
             ],
             [
              0.2222222222222222,
              "#7201a8"
             ],
             [
              0.3333333333333333,
              "#9c179e"
             ],
             [
              0.4444444444444444,
              "#bd3786"
             ],
             [
              0.5555555555555556,
              "#d8576b"
             ],
             [
              0.6666666666666666,
              "#ed7953"
             ],
             [
              0.7777777777777778,
              "#fb9f3a"
             ],
             [
              0.8888888888888888,
              "#fdca26"
             ],
             [
              1,
              "#f0f921"
             ]
            ],
            "type": "heatmap"
           }
          ],
          "heatmapgl": [
           {
            "colorbar": {
             "outlinewidth": 0,
             "ticks": ""
            },
            "colorscale": [
             [
              0,
              "#0d0887"
             ],
             [
              0.1111111111111111,
              "#46039f"
             ],
             [
              0.2222222222222222,
              "#7201a8"
             ],
             [
              0.3333333333333333,
              "#9c179e"
             ],
             [
              0.4444444444444444,
              "#bd3786"
             ],
             [
              0.5555555555555556,
              "#d8576b"
             ],
             [
              0.6666666666666666,
              "#ed7953"
             ],
             [
              0.7777777777777778,
              "#fb9f3a"
             ],
             [
              0.8888888888888888,
              "#fdca26"
             ],
             [
              1,
              "#f0f921"
             ]
            ],
            "type": "heatmapgl"
           }
          ],
          "histogram": [
           {
            "marker": {
             "colorbar": {
              "outlinewidth": 0,
              "ticks": ""
             }
            },
            "type": "histogram"
           }
          ],
          "histogram2d": [
           {
            "colorbar": {
             "outlinewidth": 0,
             "ticks": ""
            },
            "colorscale": [
             [
              0,
              "#0d0887"
             ],
             [
              0.1111111111111111,
              "#46039f"
             ],
             [
              0.2222222222222222,
              "#7201a8"
             ],
             [
              0.3333333333333333,
              "#9c179e"
             ],
             [
              0.4444444444444444,
              "#bd3786"
             ],
             [
              0.5555555555555556,
              "#d8576b"
             ],
             [
              0.6666666666666666,
              "#ed7953"
             ],
             [
              0.7777777777777778,
              "#fb9f3a"
             ],
             [
              0.8888888888888888,
              "#fdca26"
             ],
             [
              1,
              "#f0f921"
             ]
            ],
            "type": "histogram2d"
           }
          ],
          "histogram2dcontour": [
           {
            "colorbar": {
             "outlinewidth": 0,
             "ticks": ""
            },
            "colorscale": [
             [
              0,
              "#0d0887"
             ],
             [
              0.1111111111111111,
              "#46039f"
             ],
             [
              0.2222222222222222,
              "#7201a8"
             ],
             [
              0.3333333333333333,
              "#9c179e"
             ],
             [
              0.4444444444444444,
              "#bd3786"
             ],
             [
              0.5555555555555556,
              "#d8576b"
             ],
             [
              0.6666666666666666,
              "#ed7953"
             ],
             [
              0.7777777777777778,
              "#fb9f3a"
             ],
             [
              0.8888888888888888,
              "#fdca26"
             ],
             [
              1,
              "#f0f921"
             ]
            ],
            "type": "histogram2dcontour"
           }
          ],
          "mesh3d": [
           {
            "colorbar": {
             "outlinewidth": 0,
             "ticks": ""
            },
            "type": "mesh3d"
           }
          ],
          "parcoords": [
           {
            "line": {
             "colorbar": {
              "outlinewidth": 0,
              "ticks": ""
             }
            },
            "type": "parcoords"
           }
          ],
          "pie": [
           {
            "automargin": true,
            "type": "pie"
           }
          ],
          "scatter": [
           {
            "marker": {
             "colorbar": {
              "outlinewidth": 0,
              "ticks": ""
             }
            },
            "type": "scatter"
           }
          ],
          "scatter3d": [
           {
            "line": {
             "colorbar": {
              "outlinewidth": 0,
              "ticks": ""
             }
            },
            "marker": {
             "colorbar": {
              "outlinewidth": 0,
              "ticks": ""
             }
            },
            "type": "scatter3d"
           }
          ],
          "scattercarpet": [
           {
            "marker": {
             "colorbar": {
              "outlinewidth": 0,
              "ticks": ""
             }
            },
            "type": "scattercarpet"
           }
          ],
          "scattergeo": [
           {
            "marker": {
             "colorbar": {
              "outlinewidth": 0,
              "ticks": ""
             }
            },
            "type": "scattergeo"
           }
          ],
          "scattergl": [
           {
            "marker": {
             "colorbar": {
              "outlinewidth": 0,
              "ticks": ""
             }
            },
            "type": "scattergl"
           }
          ],
          "scattermapbox": [
           {
            "marker": {
             "colorbar": {
              "outlinewidth": 0,
              "ticks": ""
             }
            },
            "type": "scattermapbox"
           }
          ],
          "scatterpolar": [
           {
            "marker": {
             "colorbar": {
              "outlinewidth": 0,
              "ticks": ""
             }
            },
            "type": "scatterpolar"
           }
          ],
          "scatterpolargl": [
           {
            "marker": {
             "colorbar": {
              "outlinewidth": 0,
              "ticks": ""
             }
            },
            "type": "scatterpolargl"
           }
          ],
          "scatterternary": [
           {
            "marker": {
             "colorbar": {
              "outlinewidth": 0,
              "ticks": ""
             }
            },
            "type": "scatterternary"
           }
          ],
          "surface": [
           {
            "colorbar": {
             "outlinewidth": 0,
             "ticks": ""
            },
            "colorscale": [
             [
              0,
              "#0d0887"
             ],
             [
              0.1111111111111111,
              "#46039f"
             ],
             [
              0.2222222222222222,
              "#7201a8"
             ],
             [
              0.3333333333333333,
              "#9c179e"
             ],
             [
              0.4444444444444444,
              "#bd3786"
             ],
             [
              0.5555555555555556,
              "#d8576b"
             ],
             [
              0.6666666666666666,
              "#ed7953"
             ],
             [
              0.7777777777777778,
              "#fb9f3a"
             ],
             [
              0.8888888888888888,
              "#fdca26"
             ],
             [
              1,
              "#f0f921"
             ]
            ],
            "type": "surface"
           }
          ],
          "table": [
           {
            "cells": {
             "fill": {
              "color": "#EBF0F8"
             },
             "line": {
              "color": "white"
             }
            },
            "header": {
             "fill": {
              "color": "#C8D4E3"
             },
             "line": {
              "color": "white"
             }
            },
            "type": "table"
           }
          ]
         },
         "layout": {
          "annotationdefaults": {
           "arrowcolor": "#2a3f5f",
           "arrowhead": 0,
           "arrowwidth": 1
          },
          "coloraxis": {
           "colorbar": {
            "outlinewidth": 0,
            "ticks": ""
           }
          },
          "colorscale": {
           "diverging": [
            [
             0,
             "#8e0152"
            ],
            [
             0.1,
             "#c51b7d"
            ],
            [
             0.2,
             "#de77ae"
            ],
            [
             0.3,
             "#f1b6da"
            ],
            [
             0.4,
             "#fde0ef"
            ],
            [
             0.5,
             "#f7f7f7"
            ],
            [
             0.6,
             "#e6f5d0"
            ],
            [
             0.7,
             "#b8e186"
            ],
            [
             0.8,
             "#7fbc41"
            ],
            [
             0.9,
             "#4d9221"
            ],
            [
             1,
             "#276419"
            ]
           ],
           "sequential": [
            [
             0,
             "#0d0887"
            ],
            [
             0.1111111111111111,
             "#46039f"
            ],
            [
             0.2222222222222222,
             "#7201a8"
            ],
            [
             0.3333333333333333,
             "#9c179e"
            ],
            [
             0.4444444444444444,
             "#bd3786"
            ],
            [
             0.5555555555555556,
             "#d8576b"
            ],
            [
             0.6666666666666666,
             "#ed7953"
            ],
            [
             0.7777777777777778,
             "#fb9f3a"
            ],
            [
             0.8888888888888888,
             "#fdca26"
            ],
            [
             1,
             "#f0f921"
            ]
           ],
           "sequentialminus": [
            [
             0,
             "#0d0887"
            ],
            [
             0.1111111111111111,
             "#46039f"
            ],
            [
             0.2222222222222222,
             "#7201a8"
            ],
            [
             0.3333333333333333,
             "#9c179e"
            ],
            [
             0.4444444444444444,
             "#bd3786"
            ],
            [
             0.5555555555555556,
             "#d8576b"
            ],
            [
             0.6666666666666666,
             "#ed7953"
            ],
            [
             0.7777777777777778,
             "#fb9f3a"
            ],
            [
             0.8888888888888888,
             "#fdca26"
            ],
            [
             1,
             "#f0f921"
            ]
           ]
          },
          "colorway": [
           "#636efa",
           "#EF553B",
           "#00cc96",
           "#ab63fa",
           "#FFA15A",
           "#19d3f3",
           "#FF6692",
           "#B6E880",
           "#FF97FF",
           "#FECB52"
          ],
          "font": {
           "color": "#2a3f5f"
          },
          "geo": {
           "bgcolor": "white",
           "lakecolor": "white",
           "landcolor": "#E5ECF6",
           "showlakes": true,
           "showland": true,
           "subunitcolor": "white"
          },
          "hoverlabel": {
           "align": "left"
          },
          "hovermode": "closest",
          "mapbox": {
           "style": "light"
          },
          "paper_bgcolor": "white",
          "plot_bgcolor": "#E5ECF6",
          "polar": {
           "angularaxis": {
            "gridcolor": "white",
            "linecolor": "white",
            "ticks": ""
           },
           "bgcolor": "#E5ECF6",
           "radialaxis": {
            "gridcolor": "white",
            "linecolor": "white",
            "ticks": ""
           }
          },
          "scene": {
           "xaxis": {
            "backgroundcolor": "#E5ECF6",
            "gridcolor": "white",
            "gridwidth": 2,
            "linecolor": "white",
            "showbackground": true,
            "ticks": "",
            "zerolinecolor": "white"
           },
           "yaxis": {
            "backgroundcolor": "#E5ECF6",
            "gridcolor": "white",
            "gridwidth": 2,
            "linecolor": "white",
            "showbackground": true,
            "ticks": "",
            "zerolinecolor": "white"
           },
           "zaxis": {
            "backgroundcolor": "#E5ECF6",
            "gridcolor": "white",
            "gridwidth": 2,
            "linecolor": "white",
            "showbackground": true,
            "ticks": "",
            "zerolinecolor": "white"
           }
          },
          "shapedefaults": {
           "line": {
            "color": "#2a3f5f"
           }
          },
          "ternary": {
           "aaxis": {
            "gridcolor": "white",
            "linecolor": "white",
            "ticks": ""
           },
           "baxis": {
            "gridcolor": "white",
            "linecolor": "white",
            "ticks": ""
           },
           "bgcolor": "#E5ECF6",
           "caxis": {
            "gridcolor": "white",
            "linecolor": "white",
            "ticks": ""
           }
          },
          "title": {
           "x": 0.05
          },
          "xaxis": {
           "automargin": true,
           "gridcolor": "white",
           "linecolor": "white",
           "ticks": "",
           "title": {
            "standoff": 15
           },
           "zerolinecolor": "white",
           "zerolinewidth": 2
          },
          "yaxis": {
           "automargin": true,
           "gridcolor": "white",
           "linecolor": "white",
           "ticks": "",
           "title": {
            "standoff": 15
           },
           "zerolinecolor": "white",
           "zerolinewidth": 2
          }
         }
        },
        "xaxis": {
         "gridcolor": "ghostwhite",
         "linecolor": "black",
         "mirror": true,
         "ticks": "outside"
        },
        "yaxis": {
         "gridcolor": "ghostwhite",
         "linecolor": "black",
         "mirror": true,
         "range": [
          0.8,
          1.01
         ],
         "side": "left",
         "title": {
          "text": "Validation AUC-ROC Score"
         }
        }
       }
      }
     },
     "metadata": {},
     "output_type": "display_data"
    }
   ],
   "source": [
    "fig.update_layout(\n",
    "\t# title = 'Validation AUC-ROC Comparison',\n",
    "\tplot_bgcolor = 'white',\n",
    "\n",
    "\txaxis = dict(\n",
    "\t\tmirror = True,\n",
    "\t\tlinecolor = 'black',\n",
    "\t\tgridcolor = 'ghostwhite',\n",
    "\t\tticks = 'outside',\n",
    "\t),\t\n",
    "\n",
    "  yaxis = dict(\n",
    "\t\ttitle='Validation AUC-ROC Score',\n",
    "\t\tgridcolor = 'ghostwhite',\n",
    "\t\tlinecolor = 'black',\n",
    "\t\tside = 'left',\n",
    "\t\trange = [0.8, 1.01],\n",
    "\t\tmirror = True,\n",
    "\t),\n",
    "\n",
    "\tboxmode='group',\n",
    "\tshowlegend=False\n",
    ")\n",
    "\n",
    "fig.update_traces(\n",
    "\twidth = 0.6,\n",
    ")\n",
    "\n",
    "# fig.show()\n",
    "# # fig\n",
    "# fig.write_image('./Results/Validation AUC-ROC comparision.jpeg', width=2.5*300, height=2*300, scale=10)\n",
    "# fig.write_image('aurc.eps', scale=5)"
   ]
  },
  {
   "cell_type": "code",
   "execution_count": 39,
   "metadata": {},
   "outputs": [
    {
     "ename": "ValueError",
     "evalue": "\n    Invalid value of type 'builtins.int' received for the 'x' property of box\n        Received value: 0\n\n    The 'x' property is an array that may be specified as a tuple,\n    list, numpy array, or pandas Series",
     "output_type": "error",
     "traceback": [
      "\u001b[0;31m---------------------------------------------------------------------------\u001b[0m",
      "\u001b[0;31mValueError\u001b[0m                                Traceback (most recent call last)",
      "\u001b[0;32m<ipython-input-39-10c090d7ce13>\u001b[0m in \u001b[0;36m<module>\u001b[0;34m()\u001b[0m\n\u001b[1;32m     14\u001b[0m                 \u001b[0mpointpos\u001b[0m\u001b[0;34m=\u001b[0m\u001b[0;36m0\u001b[0m\u001b[0;34m,\u001b[0m\u001b[0;34m\u001b[0m\u001b[0;34m\u001b[0m\u001b[0m\n\u001b[1;32m     15\u001b[0m                 \u001b[0mjitter\u001b[0m\u001b[0;34m=\u001b[0m\u001b[0;36m0.2\u001b[0m\u001b[0;34m,\u001b[0m\u001b[0;34m\u001b[0m\u001b[0;34m\u001b[0m\u001b[0m\n\u001b[0;32m---> 16\u001b[0;31m                 \u001b[0mwidth\u001b[0m \u001b[0;34m=\u001b[0m \u001b[0;36m0.6\u001b[0m\u001b[0;34m\u001b[0m\u001b[0;34m\u001b[0m\u001b[0m\n\u001b[0m\u001b[1;32m     17\u001b[0m ))\n\u001b[1;32m     18\u001b[0m \u001b[0;34m\u001b[0m\u001b[0m\n",
      "\u001b[0;32m/home/topeins/anaconda3/envs/lokesh/lib/python3.6/site-packages/plotly/graph_objs/_box.py\u001b[0m in \u001b[0;36m__init__\u001b[0;34m(self, arg, alignmentgroup, boxmean, boxpoints, customdata, customdatasrc, dx, dy, fillcolor, hoverinfo, hoverinfosrc, hoverlabel, hoveron, hovertemplate, hovertemplatesrc, hovertext, hovertextsrc, ids, idssrc, jitter, legendgroup, line, lowerfence, lowerfencesrc, marker, mean, meansrc, median, mediansrc, meta, metasrc, name, notched, notchspan, notchspansrc, notchwidth, offsetgroup, opacity, orientation, pointpos, q1, q1src, q3, q3src, quartilemethod, sd, sdsrc, selected, selectedpoints, showlegend, stream, text, textsrc, uid, uirevision, unselected, upperfence, upperfencesrc, visible, whiskerwidth, width, x, x0, xaxis, xcalendar, xperiod, xperiod0, xperiodalignment, xsrc, y, y0, yaxis, ycalendar, yperiod, yperiod0, yperiodalignment, ysrc, **kwargs)\u001b[0m\n\u001b[1;32m   3099\u001b[0m         \u001b[0m_v\u001b[0m \u001b[0;34m=\u001b[0m \u001b[0mx\u001b[0m \u001b[0;32mif\u001b[0m \u001b[0mx\u001b[0m \u001b[0;32mis\u001b[0m \u001b[0;32mnot\u001b[0m \u001b[0;32mNone\u001b[0m \u001b[0;32melse\u001b[0m \u001b[0m_v\u001b[0m\u001b[0;34m\u001b[0m\u001b[0;34m\u001b[0m\u001b[0m\n\u001b[1;32m   3100\u001b[0m         \u001b[0;32mif\u001b[0m \u001b[0m_v\u001b[0m \u001b[0;32mis\u001b[0m \u001b[0;32mnot\u001b[0m \u001b[0;32mNone\u001b[0m\u001b[0;34m:\u001b[0m\u001b[0;34m\u001b[0m\u001b[0;34m\u001b[0m\u001b[0m\n\u001b[0;32m-> 3101\u001b[0;31m             \u001b[0mself\u001b[0m\u001b[0;34m[\u001b[0m\u001b[0;34m\"x\"\u001b[0m\u001b[0;34m]\u001b[0m \u001b[0;34m=\u001b[0m \u001b[0m_v\u001b[0m\u001b[0;34m\u001b[0m\u001b[0;34m\u001b[0m\u001b[0m\n\u001b[0m\u001b[1;32m   3102\u001b[0m         \u001b[0m_v\u001b[0m \u001b[0;34m=\u001b[0m \u001b[0marg\u001b[0m\u001b[0;34m.\u001b[0m\u001b[0mpop\u001b[0m\u001b[0;34m(\u001b[0m\u001b[0;34m\"x0\"\u001b[0m\u001b[0;34m,\u001b[0m \u001b[0;32mNone\u001b[0m\u001b[0;34m)\u001b[0m\u001b[0;34m\u001b[0m\u001b[0;34m\u001b[0m\u001b[0m\n\u001b[1;32m   3103\u001b[0m         \u001b[0m_v\u001b[0m \u001b[0;34m=\u001b[0m \u001b[0mx0\u001b[0m \u001b[0;32mif\u001b[0m \u001b[0mx0\u001b[0m \u001b[0;32mis\u001b[0m \u001b[0;32mnot\u001b[0m \u001b[0;32mNone\u001b[0m \u001b[0;32melse\u001b[0m \u001b[0m_v\u001b[0m\u001b[0;34m\u001b[0m\u001b[0;34m\u001b[0m\u001b[0m\n",
      "\u001b[0;32m/home/topeins/anaconda3/envs/lokesh/lib/python3.6/site-packages/plotly/basedatatypes.py\u001b[0m in \u001b[0;36m__setitem__\u001b[0;34m(self, prop, value)\u001b[0m\n\u001b[1;32m   4802\u001b[0m                 \u001b[0;31m# ### Handle simple property ###\u001b[0m\u001b[0;34m\u001b[0m\u001b[0;34m\u001b[0m\u001b[0;34m\u001b[0m\u001b[0m\n\u001b[1;32m   4803\u001b[0m                 \u001b[0;32melse\u001b[0m\u001b[0;34m:\u001b[0m\u001b[0;34m\u001b[0m\u001b[0;34m\u001b[0m\u001b[0m\n\u001b[0;32m-> 4804\u001b[0;31m                     \u001b[0mself\u001b[0m\u001b[0;34m.\u001b[0m\u001b[0m_set_prop\u001b[0m\u001b[0;34m(\u001b[0m\u001b[0mprop\u001b[0m\u001b[0;34m,\u001b[0m \u001b[0mvalue\u001b[0m\u001b[0;34m)\u001b[0m\u001b[0;34m\u001b[0m\u001b[0;34m\u001b[0m\u001b[0m\n\u001b[0m\u001b[1;32m   4805\u001b[0m             \u001b[0;32melse\u001b[0m\u001b[0;34m:\u001b[0m\u001b[0;34m\u001b[0m\u001b[0;34m\u001b[0m\u001b[0m\n\u001b[1;32m   4806\u001b[0m                 \u001b[0;31m# Make sure properties dict is initialized\u001b[0m\u001b[0;34m\u001b[0m\u001b[0;34m\u001b[0m\u001b[0;34m\u001b[0m\u001b[0m\n",
      "\u001b[0;32m/home/topeins/anaconda3/envs/lokesh/lib/python3.6/site-packages/plotly/basedatatypes.py\u001b[0m in \u001b[0;36m_set_prop\u001b[0;34m(self, prop, val)\u001b[0m\n\u001b[1;32m   5146\u001b[0m                 \u001b[0;32mreturn\u001b[0m\u001b[0;34m\u001b[0m\u001b[0;34m\u001b[0m\u001b[0m\n\u001b[1;32m   5147\u001b[0m             \u001b[0;32melse\u001b[0m\u001b[0;34m:\u001b[0m\u001b[0;34m\u001b[0m\u001b[0;34m\u001b[0m\u001b[0m\n\u001b[0;32m-> 5148\u001b[0;31m                 \u001b[0;32mraise\u001b[0m \u001b[0merr\u001b[0m\u001b[0;34m\u001b[0m\u001b[0;34m\u001b[0m\u001b[0m\n\u001b[0m\u001b[1;32m   5149\u001b[0m \u001b[0;34m\u001b[0m\u001b[0m\n\u001b[1;32m   5150\u001b[0m         \u001b[0;31m# val is None\u001b[0m\u001b[0;34m\u001b[0m\u001b[0;34m\u001b[0m\u001b[0;34m\u001b[0m\u001b[0m\n",
      "\u001b[0;32m/home/topeins/anaconda3/envs/lokesh/lib/python3.6/site-packages/plotly/basedatatypes.py\u001b[0m in \u001b[0;36m_set_prop\u001b[0;34m(self, prop, val)\u001b[0m\n\u001b[1;32m   5141\u001b[0m \u001b[0;34m\u001b[0m\u001b[0m\n\u001b[1;32m   5142\u001b[0m         \u001b[0;32mtry\u001b[0m\u001b[0;34m:\u001b[0m\u001b[0;34m\u001b[0m\u001b[0;34m\u001b[0m\u001b[0m\n\u001b[0;32m-> 5143\u001b[0;31m             \u001b[0mval\u001b[0m \u001b[0;34m=\u001b[0m \u001b[0mvalidator\u001b[0m\u001b[0;34m.\u001b[0m\u001b[0mvalidate_coerce\u001b[0m\u001b[0;34m(\u001b[0m\u001b[0mval\u001b[0m\u001b[0;34m)\u001b[0m\u001b[0;34m\u001b[0m\u001b[0;34m\u001b[0m\u001b[0m\n\u001b[0m\u001b[1;32m   5144\u001b[0m         \u001b[0;32mexcept\u001b[0m \u001b[0mValueError\u001b[0m \u001b[0;32mas\u001b[0m \u001b[0merr\u001b[0m\u001b[0;34m:\u001b[0m\u001b[0;34m\u001b[0m\u001b[0;34m\u001b[0m\u001b[0m\n\u001b[1;32m   5145\u001b[0m             \u001b[0;32mif\u001b[0m \u001b[0mself\u001b[0m\u001b[0;34m.\u001b[0m\u001b[0m_skip_invalid\u001b[0m\u001b[0;34m:\u001b[0m\u001b[0;34m\u001b[0m\u001b[0;34m\u001b[0m\u001b[0m\n",
      "\u001b[0;32m/home/topeins/anaconda3/envs/lokesh/lib/python3.6/site-packages/_plotly_utils/basevalidators.py\u001b[0m in \u001b[0;36mvalidate_coerce\u001b[0;34m(self, v)\u001b[0m\n\u001b[1;32m    389\u001b[0m             \u001b[0mv\u001b[0m \u001b[0;34m=\u001b[0m \u001b[0mto_scalar_or_list\u001b[0m\u001b[0;34m(\u001b[0m\u001b[0mv\u001b[0m\u001b[0;34m)\u001b[0m\u001b[0;34m\u001b[0m\u001b[0;34m\u001b[0m\u001b[0m\n\u001b[1;32m    390\u001b[0m         \u001b[0;32melse\u001b[0m\u001b[0;34m:\u001b[0m\u001b[0;34m\u001b[0m\u001b[0;34m\u001b[0m\u001b[0m\n\u001b[0;32m--> 391\u001b[0;31m             \u001b[0mself\u001b[0m\u001b[0;34m.\u001b[0m\u001b[0mraise_invalid_val\u001b[0m\u001b[0;34m(\u001b[0m\u001b[0mv\u001b[0m\u001b[0;34m)\u001b[0m\u001b[0;34m\u001b[0m\u001b[0;34m\u001b[0m\u001b[0m\n\u001b[0m\u001b[1;32m    392\u001b[0m         \u001b[0;32mreturn\u001b[0m \u001b[0mv\u001b[0m\u001b[0;34m\u001b[0m\u001b[0;34m\u001b[0m\u001b[0m\n\u001b[1;32m    393\u001b[0m \u001b[0;34m\u001b[0m\u001b[0m\n",
      "\u001b[0;32m/home/topeins/anaconda3/envs/lokesh/lib/python3.6/site-packages/_plotly_utils/basevalidators.py\u001b[0m in \u001b[0;36mraise_invalid_val\u001b[0;34m(self, v, inds)\u001b[0m\n\u001b[1;32m    283\u001b[0m                 \u001b[0mtyp\u001b[0m\u001b[0;34m=\u001b[0m\u001b[0mtype_str\u001b[0m\u001b[0;34m(\u001b[0m\u001b[0mv\u001b[0m\u001b[0;34m)\u001b[0m\u001b[0;34m,\u001b[0m\u001b[0;34m\u001b[0m\u001b[0;34m\u001b[0m\u001b[0m\n\u001b[1;32m    284\u001b[0m                 \u001b[0mv\u001b[0m\u001b[0;34m=\u001b[0m\u001b[0mrepr\u001b[0m\u001b[0;34m(\u001b[0m\u001b[0mv\u001b[0m\u001b[0;34m)\u001b[0m\u001b[0;34m,\u001b[0m\u001b[0;34m\u001b[0m\u001b[0;34m\u001b[0m\u001b[0m\n\u001b[0;32m--> 285\u001b[0;31m                 \u001b[0mvalid_clr_desc\u001b[0m\u001b[0;34m=\u001b[0m\u001b[0mself\u001b[0m\u001b[0;34m.\u001b[0m\u001b[0mdescription\u001b[0m\u001b[0;34m(\u001b[0m\u001b[0;34m)\u001b[0m\u001b[0;34m,\u001b[0m\u001b[0;34m\u001b[0m\u001b[0;34m\u001b[0m\u001b[0m\n\u001b[0m\u001b[1;32m    286\u001b[0m             )\n\u001b[1;32m    287\u001b[0m         )\n",
      "\u001b[0;31mValueError\u001b[0m: \n    Invalid value of type 'builtins.int' received for the 'x' property of box\n        Received value: 0\n\n    The 'x' property is an array that may be specified as a tuple,\n    list, numpy array, or pandas Series"
     ]
    }
   ],
   "source": [
    "fig2 = go.Figure()\n",
    "\n",
    "traces = [lr_val_kappa, dtc_val_kappa, svm_val_kappa, CBT_val_kappa, RFC_val_kappa, XGB_val_kappa, LGB_val_kappa ]\n",
    "tNames = ['Logistic Regression','Decision Trees', 'SVM', 'CatBoost', 'Random Forest', 'XGBoost', 'LightBoost' ]\n",
    "\n",
    "for i, t in enumerate(traces):\n",
    "\tfig2.add_trace(\n",
    "\tgo.Box(\n",
    "    y=t,\n",
    "\t\tx = [i]*len(t),\n",
    "    name=tNames[i],\n",
    "\t\tmarker_color= colors[i],\n",
    "\t\tboxpoints='all',\n",
    "\t\tpointpos=0,\n",
    "\t\tjitter=0.2,\n",
    "\t\twidth = 0.6\n",
    "))\n",
    "\n",
    "\n",
    "\n",
    "fig2.update_layout(\n",
    "\t# title=\"Validation Kappa comparision\",\n",
    "\tplot_bgcolor = 'white',\n",
    "\txaxis = dict(\n",
    "\t\tmirror = True,\n",
    "\t\tlinecolor = 'black',\n",
    "\t\tgridcolor = 'ghostwhite',\n",
    "\t\tticks = 'outside'\n",
    "\t),\n",
    "  yaxis = dict(\n",
    "\t\ttitle='Validation Kappa score',\n",
    "    mirror = True,\n",
    "\t\tlinecolor = 'black',\n",
    "\t\tgridcolor = 'ghostwhite',\n",
    "\t\tside = 'left',\n",
    "\t\trange = [0.7, 1.01]\n",
    "\t),\n",
    "\tboxmode='group',\n",
    "  showlegend=False\n",
    ")\n",
    "\n",
    "\n",
    "# fig2.write_image('./Results/Validation Kappa comparision.jpeg', width=2.5*300, height=2*300, scale=10)"
   ]
  },
  {
   "cell_type": "code",
   "execution_count": 18,
   "metadata": {
    "scrolled": false
   },
   "outputs": [
    {
     "data": {
      "application/vnd.plotly.v1+json": {
       "config": {
        "plotlyServerURL": "https://plot.ly"
       },
       "data": [
        {
         "marker": {
          "color": [
           "blue",
           "red",
           "#FF851B",
           "#FF907B",
           "pink",
           "yellow",
           "grey"
          ],
          "line": {
           "color": "rgb(255,255,255)",
           "width": 1.5
          }
         },
         "opacity": 0.5,
         "type": "bar",
         "x": [
          "Logistic Regression",
          "Decision Trees",
          "SVM",
          "CatBoost",
          "RANDOM FOREST",
          "XGBoost",
          "LightBoost"
         ],
         "y": [
          0.9798994974874372,
          0.9849246231155778,
          0.907035175879397,
          0.763157894736842,
          0.631578947368421,
          1,
          0.9949748743718593
         ]
        }
       ],
       "layout": {
        "font": {
         "color": "Black",
         "family": "Courier New, monospace",
         "size": 15
        },
        "template": {
         "data": {
          "bar": [
           {
            "error_x": {
             "color": "#2a3f5f"
            },
            "error_y": {
             "color": "#2a3f5f"
            },
            "marker": {
             "line": {
              "color": "#E5ECF6",
              "width": 0.5
             }
            },
            "type": "bar"
           }
          ],
          "barpolar": [
           {
            "marker": {
             "line": {
              "color": "#E5ECF6",
              "width": 0.5
             }
            },
            "type": "barpolar"
           }
          ],
          "carpet": [
           {
            "aaxis": {
             "endlinecolor": "#2a3f5f",
             "gridcolor": "white",
             "linecolor": "white",
             "minorgridcolor": "white",
             "startlinecolor": "#2a3f5f"
            },
            "baxis": {
             "endlinecolor": "#2a3f5f",
             "gridcolor": "white",
             "linecolor": "white",
             "minorgridcolor": "white",
             "startlinecolor": "#2a3f5f"
            },
            "type": "carpet"
           }
          ],
          "choropleth": [
           {
            "colorbar": {
             "outlinewidth": 0,
             "ticks": ""
            },
            "type": "choropleth"
           }
          ],
          "contour": [
           {
            "colorbar": {
             "outlinewidth": 0,
             "ticks": ""
            },
            "colorscale": [
             [
              0,
              "#0d0887"
             ],
             [
              0.1111111111111111,
              "#46039f"
             ],
             [
              0.2222222222222222,
              "#7201a8"
             ],
             [
              0.3333333333333333,
              "#9c179e"
             ],
             [
              0.4444444444444444,
              "#bd3786"
             ],
             [
              0.5555555555555556,
              "#d8576b"
             ],
             [
              0.6666666666666666,
              "#ed7953"
             ],
             [
              0.7777777777777778,
              "#fb9f3a"
             ],
             [
              0.8888888888888888,
              "#fdca26"
             ],
             [
              1,
              "#f0f921"
             ]
            ],
            "type": "contour"
           }
          ],
          "contourcarpet": [
           {
            "colorbar": {
             "outlinewidth": 0,
             "ticks": ""
            },
            "type": "contourcarpet"
           }
          ],
          "heatmap": [
           {
            "colorbar": {
             "outlinewidth": 0,
             "ticks": ""
            },
            "colorscale": [
             [
              0,
              "#0d0887"
             ],
             [
              0.1111111111111111,
              "#46039f"
             ],
             [
              0.2222222222222222,
              "#7201a8"
             ],
             [
              0.3333333333333333,
              "#9c179e"
             ],
             [
              0.4444444444444444,
              "#bd3786"
             ],
             [
              0.5555555555555556,
              "#d8576b"
             ],
             [
              0.6666666666666666,
              "#ed7953"
             ],
             [
              0.7777777777777778,
              "#fb9f3a"
             ],
             [
              0.8888888888888888,
              "#fdca26"
             ],
             [
              1,
              "#f0f921"
             ]
            ],
            "type": "heatmap"
           }
          ],
          "heatmapgl": [
           {
            "colorbar": {
             "outlinewidth": 0,
             "ticks": ""
            },
            "colorscale": [
             [
              0,
              "#0d0887"
             ],
             [
              0.1111111111111111,
              "#46039f"
             ],
             [
              0.2222222222222222,
              "#7201a8"
             ],
             [
              0.3333333333333333,
              "#9c179e"
             ],
             [
              0.4444444444444444,
              "#bd3786"
             ],
             [
              0.5555555555555556,
              "#d8576b"
             ],
             [
              0.6666666666666666,
              "#ed7953"
             ],
             [
              0.7777777777777778,
              "#fb9f3a"
             ],
             [
              0.8888888888888888,
              "#fdca26"
             ],
             [
              1,
              "#f0f921"
             ]
            ],
            "type": "heatmapgl"
           }
          ],
          "histogram": [
           {
            "marker": {
             "colorbar": {
              "outlinewidth": 0,
              "ticks": ""
             }
            },
            "type": "histogram"
           }
          ],
          "histogram2d": [
           {
            "colorbar": {
             "outlinewidth": 0,
             "ticks": ""
            },
            "colorscale": [
             [
              0,
              "#0d0887"
             ],
             [
              0.1111111111111111,
              "#46039f"
             ],
             [
              0.2222222222222222,
              "#7201a8"
             ],
             [
              0.3333333333333333,
              "#9c179e"
             ],
             [
              0.4444444444444444,
              "#bd3786"
             ],
             [
              0.5555555555555556,
              "#d8576b"
             ],
             [
              0.6666666666666666,
              "#ed7953"
             ],
             [
              0.7777777777777778,
              "#fb9f3a"
             ],
             [
              0.8888888888888888,
              "#fdca26"
             ],
             [
              1,
              "#f0f921"
             ]
            ],
            "type": "histogram2d"
           }
          ],
          "histogram2dcontour": [
           {
            "colorbar": {
             "outlinewidth": 0,
             "ticks": ""
            },
            "colorscale": [
             [
              0,
              "#0d0887"
             ],
             [
              0.1111111111111111,
              "#46039f"
             ],
             [
              0.2222222222222222,
              "#7201a8"
             ],
             [
              0.3333333333333333,
              "#9c179e"
             ],
             [
              0.4444444444444444,
              "#bd3786"
             ],
             [
              0.5555555555555556,
              "#d8576b"
             ],
             [
              0.6666666666666666,
              "#ed7953"
             ],
             [
              0.7777777777777778,
              "#fb9f3a"
             ],
             [
              0.8888888888888888,
              "#fdca26"
             ],
             [
              1,
              "#f0f921"
             ]
            ],
            "type": "histogram2dcontour"
           }
          ],
          "mesh3d": [
           {
            "colorbar": {
             "outlinewidth": 0,
             "ticks": ""
            },
            "type": "mesh3d"
           }
          ],
          "parcoords": [
           {
            "line": {
             "colorbar": {
              "outlinewidth": 0,
              "ticks": ""
             }
            },
            "type": "parcoords"
           }
          ],
          "pie": [
           {
            "automargin": true,
            "type": "pie"
           }
          ],
          "scatter": [
           {
            "marker": {
             "colorbar": {
              "outlinewidth": 0,
              "ticks": ""
             }
            },
            "type": "scatter"
           }
          ],
          "scatter3d": [
           {
            "line": {
             "colorbar": {
              "outlinewidth": 0,
              "ticks": ""
             }
            },
            "marker": {
             "colorbar": {
              "outlinewidth": 0,
              "ticks": ""
             }
            },
            "type": "scatter3d"
           }
          ],
          "scattercarpet": [
           {
            "marker": {
             "colorbar": {
              "outlinewidth": 0,
              "ticks": ""
             }
            },
            "type": "scattercarpet"
           }
          ],
          "scattergeo": [
           {
            "marker": {
             "colorbar": {
              "outlinewidth": 0,
              "ticks": ""
             }
            },
            "type": "scattergeo"
           }
          ],
          "scattergl": [
           {
            "marker": {
             "colorbar": {
              "outlinewidth": 0,
              "ticks": ""
             }
            },
            "type": "scattergl"
           }
          ],
          "scattermapbox": [
           {
            "marker": {
             "colorbar": {
              "outlinewidth": 0,
              "ticks": ""
             }
            },
            "type": "scattermapbox"
           }
          ],
          "scatterpolar": [
           {
            "marker": {
             "colorbar": {
              "outlinewidth": 0,
              "ticks": ""
             }
            },
            "type": "scatterpolar"
           }
          ],
          "scatterpolargl": [
           {
            "marker": {
             "colorbar": {
              "outlinewidth": 0,
              "ticks": ""
             }
            },
            "type": "scatterpolargl"
           }
          ],
          "scatterternary": [
           {
            "marker": {
             "colorbar": {
              "outlinewidth": 0,
              "ticks": ""
             }
            },
            "type": "scatterternary"
           }
          ],
          "surface": [
           {
            "colorbar": {
             "outlinewidth": 0,
             "ticks": ""
            },
            "colorscale": [
             [
              0,
              "#0d0887"
             ],
             [
              0.1111111111111111,
              "#46039f"
             ],
             [
              0.2222222222222222,
              "#7201a8"
             ],
             [
              0.3333333333333333,
              "#9c179e"
             ],
             [
              0.4444444444444444,
              "#bd3786"
             ],
             [
              0.5555555555555556,
              "#d8576b"
             ],
             [
              0.6666666666666666,
              "#ed7953"
             ],
             [
              0.7777777777777778,
              "#fb9f3a"
             ],
             [
              0.8888888888888888,
              "#fdca26"
             ],
             [
              1,
              "#f0f921"
             ]
            ],
            "type": "surface"
           }
          ],
          "table": [
           {
            "cells": {
             "fill": {
              "color": "#EBF0F8"
             },
             "line": {
              "color": "white"
             }
            },
            "header": {
             "fill": {
              "color": "#C8D4E3"
             },
             "line": {
              "color": "white"
             }
            },
            "type": "table"
           }
          ]
         },
         "layout": {
          "annotationdefaults": {
           "arrowcolor": "#2a3f5f",
           "arrowhead": 0,
           "arrowwidth": 1
          },
          "coloraxis": {
           "colorbar": {
            "outlinewidth": 0,
            "ticks": ""
           }
          },
          "colorscale": {
           "diverging": [
            [
             0,
             "#8e0152"
            ],
            [
             0.1,
             "#c51b7d"
            ],
            [
             0.2,
             "#de77ae"
            ],
            [
             0.3,
             "#f1b6da"
            ],
            [
             0.4,
             "#fde0ef"
            ],
            [
             0.5,
             "#f7f7f7"
            ],
            [
             0.6,
             "#e6f5d0"
            ],
            [
             0.7,
             "#b8e186"
            ],
            [
             0.8,
             "#7fbc41"
            ],
            [
             0.9,
             "#4d9221"
            ],
            [
             1,
             "#276419"
            ]
           ],
           "sequential": [
            [
             0,
             "#0d0887"
            ],
            [
             0.1111111111111111,
             "#46039f"
            ],
            [
             0.2222222222222222,
             "#7201a8"
            ],
            [
             0.3333333333333333,
             "#9c179e"
            ],
            [
             0.4444444444444444,
             "#bd3786"
            ],
            [
             0.5555555555555556,
             "#d8576b"
            ],
            [
             0.6666666666666666,
             "#ed7953"
            ],
            [
             0.7777777777777778,
             "#fb9f3a"
            ],
            [
             0.8888888888888888,
             "#fdca26"
            ],
            [
             1,
             "#f0f921"
            ]
           ],
           "sequentialminus": [
            [
             0,
             "#0d0887"
            ],
            [
             0.1111111111111111,
             "#46039f"
            ],
            [
             0.2222222222222222,
             "#7201a8"
            ],
            [
             0.3333333333333333,
             "#9c179e"
            ],
            [
             0.4444444444444444,
             "#bd3786"
            ],
            [
             0.5555555555555556,
             "#d8576b"
            ],
            [
             0.6666666666666666,
             "#ed7953"
            ],
            [
             0.7777777777777778,
             "#fb9f3a"
            ],
            [
             0.8888888888888888,
             "#fdca26"
            ],
            [
             1,
             "#f0f921"
            ]
           ]
          },
          "colorway": [
           "#636efa",
           "#EF553B",
           "#00cc96",
           "#ab63fa",
           "#FFA15A",
           "#19d3f3",
           "#FF6692",
           "#B6E880",
           "#FF97FF",
           "#FECB52"
          ],
          "font": {
           "color": "#2a3f5f"
          },
          "geo": {
           "bgcolor": "white",
           "lakecolor": "white",
           "landcolor": "#E5ECF6",
           "showlakes": true,
           "showland": true,
           "subunitcolor": "white"
          },
          "hoverlabel": {
           "align": "left"
          },
          "hovermode": "closest",
          "mapbox": {
           "style": "light"
          },
          "paper_bgcolor": "white",
          "plot_bgcolor": "#E5ECF6",
          "polar": {
           "angularaxis": {
            "gridcolor": "white",
            "linecolor": "white",
            "ticks": ""
           },
           "bgcolor": "#E5ECF6",
           "radialaxis": {
            "gridcolor": "white",
            "linecolor": "white",
            "ticks": ""
           }
          },
          "scene": {
           "xaxis": {
            "backgroundcolor": "#E5ECF6",
            "gridcolor": "white",
            "gridwidth": 2,
            "linecolor": "white",
            "showbackground": true,
            "ticks": "",
            "zerolinecolor": "white"
           },
           "yaxis": {
            "backgroundcolor": "#E5ECF6",
            "gridcolor": "white",
            "gridwidth": 2,
            "linecolor": "white",
            "showbackground": true,
            "ticks": "",
            "zerolinecolor": "white"
           },
           "zaxis": {
            "backgroundcolor": "#E5ECF6",
            "gridcolor": "white",
            "gridwidth": 2,
            "linecolor": "white",
            "showbackground": true,
            "ticks": "",
            "zerolinecolor": "white"
           }
          },
          "shapedefaults": {
           "line": {
            "color": "#2a3f5f"
           }
          },
          "ternary": {
           "aaxis": {
            "gridcolor": "white",
            "linecolor": "white",
            "ticks": ""
           },
           "baxis": {
            "gridcolor": "white",
            "linecolor": "white",
            "ticks": ""
           },
           "bgcolor": "#E5ECF6",
           "caxis": {
            "gridcolor": "white",
            "linecolor": "white",
            "ticks": ""
           }
          },
          "title": {
           "x": 0.05
          },
          "xaxis": {
           "automargin": true,
           "gridcolor": "white",
           "linecolor": "white",
           "ticks": "",
           "title": {
            "standoff": 15
           },
           "zerolinecolor": "white",
           "zerolinewidth": 2
          },
          "yaxis": {
           "automargin": true,
           "gridcolor": "white",
           "linecolor": "white",
           "ticks": "",
           "title": {
            "standoff": 15
           },
           "zerolinecolor": "white",
           "zerolinewidth": 2
          }
         }
        },
        "title": {
         "text": "AUC-ROC comparision on Independent Test data"
        }
       }
      },
      "text/html": [
       "<div>                            <div id=\"a3bcc77b-8960-4531-bd86-976c440884d8\" class=\"plotly-graph-div\" style=\"height:525px; width:100%;\"></div>            <script type=\"text/javascript\">                require([\"plotly\"], function(Plotly) {                    window.PLOTLYENV=window.PLOTLYENV || {};                                    if (document.getElementById(\"a3bcc77b-8960-4531-bd86-976c440884d8\")) {                    Plotly.newPlot(                        \"a3bcc77b-8960-4531-bd86-976c440884d8\",                        [{\"marker\": {\"color\": [\"blue\", \"red\", \"#FF851B\", \"#FF907B\", \"pink\", \"yellow\", \"grey\"], \"line\": {\"color\": \"rgb(255,255,255)\", \"width\": 1.5}}, \"opacity\": 0.5, \"type\": \"bar\", \"x\": [\"Logistic Regression\", \"Decision Trees\", \"SVM\", \"CatBoost\", \"RANDOM FOREST\", \"XGBoost\", \"LightBoost\"], \"y\": [0.9798994974874372, 0.9849246231155778, 0.907035175879397, 0.763157894736842, 0.631578947368421, 1.0, 0.9949748743718593]}],                        {\"font\": {\"color\": \"Black\", \"family\": \"Courier New, monospace\", \"size\": 15}, \"template\": {\"data\": {\"bar\": [{\"error_x\": {\"color\": \"#2a3f5f\"}, \"error_y\": {\"color\": \"#2a3f5f\"}, \"marker\": {\"line\": {\"color\": \"#E5ECF6\", \"width\": 0.5}}, \"type\": \"bar\"}], \"barpolar\": [{\"marker\": {\"line\": {\"color\": \"#E5ECF6\", \"width\": 0.5}}, \"type\": \"barpolar\"}], \"carpet\": [{\"aaxis\": {\"endlinecolor\": \"#2a3f5f\", \"gridcolor\": \"white\", \"linecolor\": \"white\", \"minorgridcolor\": \"white\", \"startlinecolor\": \"#2a3f5f\"}, \"baxis\": {\"endlinecolor\": \"#2a3f5f\", \"gridcolor\": \"white\", \"linecolor\": \"white\", \"minorgridcolor\": \"white\", \"startlinecolor\": \"#2a3f5f\"}, \"type\": \"carpet\"}], \"choropleth\": [{\"colorbar\": {\"outlinewidth\": 0, \"ticks\": \"\"}, \"type\": \"choropleth\"}], \"contour\": [{\"colorbar\": {\"outlinewidth\": 0, \"ticks\": \"\"}, \"colorscale\": [[0.0, \"#0d0887\"], [0.1111111111111111, \"#46039f\"], [0.2222222222222222, \"#7201a8\"], [0.3333333333333333, \"#9c179e\"], [0.4444444444444444, \"#bd3786\"], [0.5555555555555556, \"#d8576b\"], [0.6666666666666666, \"#ed7953\"], [0.7777777777777778, \"#fb9f3a\"], [0.8888888888888888, \"#fdca26\"], [1.0, \"#f0f921\"]], \"type\": \"contour\"}], \"contourcarpet\": [{\"colorbar\": {\"outlinewidth\": 0, \"ticks\": \"\"}, \"type\": \"contourcarpet\"}], \"heatmap\": [{\"colorbar\": {\"outlinewidth\": 0, \"ticks\": \"\"}, \"colorscale\": [[0.0, \"#0d0887\"], [0.1111111111111111, \"#46039f\"], [0.2222222222222222, \"#7201a8\"], [0.3333333333333333, \"#9c179e\"], [0.4444444444444444, \"#bd3786\"], [0.5555555555555556, \"#d8576b\"], [0.6666666666666666, \"#ed7953\"], [0.7777777777777778, \"#fb9f3a\"], [0.8888888888888888, \"#fdca26\"], [1.0, \"#f0f921\"]], \"type\": \"heatmap\"}], \"heatmapgl\": [{\"colorbar\": {\"outlinewidth\": 0, \"ticks\": \"\"}, \"colorscale\": [[0.0, \"#0d0887\"], [0.1111111111111111, \"#46039f\"], [0.2222222222222222, \"#7201a8\"], [0.3333333333333333, \"#9c179e\"], [0.4444444444444444, \"#bd3786\"], [0.5555555555555556, \"#d8576b\"], [0.6666666666666666, \"#ed7953\"], [0.7777777777777778, \"#fb9f3a\"], [0.8888888888888888, \"#fdca26\"], [1.0, \"#f0f921\"]], \"type\": \"heatmapgl\"}], \"histogram\": [{\"marker\": {\"colorbar\": {\"outlinewidth\": 0, \"ticks\": \"\"}}, \"type\": \"histogram\"}], \"histogram2d\": [{\"colorbar\": {\"outlinewidth\": 0, \"ticks\": \"\"}, \"colorscale\": [[0.0, \"#0d0887\"], [0.1111111111111111, \"#46039f\"], [0.2222222222222222, \"#7201a8\"], [0.3333333333333333, \"#9c179e\"], [0.4444444444444444, \"#bd3786\"], [0.5555555555555556, \"#d8576b\"], [0.6666666666666666, \"#ed7953\"], [0.7777777777777778, \"#fb9f3a\"], [0.8888888888888888, \"#fdca26\"], [1.0, \"#f0f921\"]], \"type\": \"histogram2d\"}], \"histogram2dcontour\": [{\"colorbar\": {\"outlinewidth\": 0, \"ticks\": \"\"}, \"colorscale\": [[0.0, \"#0d0887\"], [0.1111111111111111, \"#46039f\"], [0.2222222222222222, \"#7201a8\"], [0.3333333333333333, \"#9c179e\"], [0.4444444444444444, \"#bd3786\"], [0.5555555555555556, \"#d8576b\"], [0.6666666666666666, \"#ed7953\"], [0.7777777777777778, \"#fb9f3a\"], [0.8888888888888888, \"#fdca26\"], [1.0, \"#f0f921\"]], \"type\": \"histogram2dcontour\"}], \"mesh3d\": [{\"colorbar\": {\"outlinewidth\": 0, \"ticks\": \"\"}, \"type\": \"mesh3d\"}], \"parcoords\": [{\"line\": {\"colorbar\": {\"outlinewidth\": 0, \"ticks\": \"\"}}, \"type\": \"parcoords\"}], \"pie\": [{\"automargin\": true, \"type\": \"pie\"}], \"scatter\": [{\"marker\": {\"colorbar\": {\"outlinewidth\": 0, \"ticks\": \"\"}}, \"type\": \"scatter\"}], \"scatter3d\": [{\"line\": {\"colorbar\": {\"outlinewidth\": 0, \"ticks\": \"\"}}, \"marker\": {\"colorbar\": {\"outlinewidth\": 0, \"ticks\": \"\"}}, \"type\": \"scatter3d\"}], \"scattercarpet\": [{\"marker\": {\"colorbar\": {\"outlinewidth\": 0, \"ticks\": \"\"}}, \"type\": \"scattercarpet\"}], \"scattergeo\": [{\"marker\": {\"colorbar\": {\"outlinewidth\": 0, \"ticks\": \"\"}}, \"type\": \"scattergeo\"}], \"scattergl\": [{\"marker\": {\"colorbar\": {\"outlinewidth\": 0, \"ticks\": \"\"}}, \"type\": \"scattergl\"}], \"scattermapbox\": [{\"marker\": {\"colorbar\": {\"outlinewidth\": 0, \"ticks\": \"\"}}, \"type\": \"scattermapbox\"}], \"scatterpolar\": [{\"marker\": {\"colorbar\": {\"outlinewidth\": 0, \"ticks\": \"\"}}, \"type\": \"scatterpolar\"}], \"scatterpolargl\": [{\"marker\": {\"colorbar\": {\"outlinewidth\": 0, \"ticks\": \"\"}}, \"type\": \"scatterpolargl\"}], \"scatterternary\": [{\"marker\": {\"colorbar\": {\"outlinewidth\": 0, \"ticks\": \"\"}}, \"type\": \"scatterternary\"}], \"surface\": [{\"colorbar\": {\"outlinewidth\": 0, \"ticks\": \"\"}, \"colorscale\": [[0.0, \"#0d0887\"], [0.1111111111111111, \"#46039f\"], [0.2222222222222222, \"#7201a8\"], [0.3333333333333333, \"#9c179e\"], [0.4444444444444444, \"#bd3786\"], [0.5555555555555556, \"#d8576b\"], [0.6666666666666666, \"#ed7953\"], [0.7777777777777778, \"#fb9f3a\"], [0.8888888888888888, \"#fdca26\"], [1.0, \"#f0f921\"]], \"type\": \"surface\"}], \"table\": [{\"cells\": {\"fill\": {\"color\": \"#EBF0F8\"}, \"line\": {\"color\": \"white\"}}, \"header\": {\"fill\": {\"color\": \"#C8D4E3\"}, \"line\": {\"color\": \"white\"}}, \"type\": \"table\"}]}, \"layout\": {\"annotationdefaults\": {\"arrowcolor\": \"#2a3f5f\", \"arrowhead\": 0, \"arrowwidth\": 1}, \"coloraxis\": {\"colorbar\": {\"outlinewidth\": 0, \"ticks\": \"\"}}, \"colorscale\": {\"diverging\": [[0, \"#8e0152\"], [0.1, \"#c51b7d\"], [0.2, \"#de77ae\"], [0.3, \"#f1b6da\"], [0.4, \"#fde0ef\"], [0.5, \"#f7f7f7\"], [0.6, \"#e6f5d0\"], [0.7, \"#b8e186\"], [0.8, \"#7fbc41\"], [0.9, \"#4d9221\"], [1, \"#276419\"]], \"sequential\": [[0.0, \"#0d0887\"], [0.1111111111111111, \"#46039f\"], [0.2222222222222222, \"#7201a8\"], [0.3333333333333333, \"#9c179e\"], [0.4444444444444444, \"#bd3786\"], [0.5555555555555556, \"#d8576b\"], [0.6666666666666666, \"#ed7953\"], [0.7777777777777778, \"#fb9f3a\"], [0.8888888888888888, \"#fdca26\"], [1.0, \"#f0f921\"]], \"sequentialminus\": [[0.0, \"#0d0887\"], [0.1111111111111111, \"#46039f\"], [0.2222222222222222, \"#7201a8\"], [0.3333333333333333, \"#9c179e\"], [0.4444444444444444, \"#bd3786\"], [0.5555555555555556, \"#d8576b\"], [0.6666666666666666, \"#ed7953\"], [0.7777777777777778, \"#fb9f3a\"], [0.8888888888888888, \"#fdca26\"], [1.0, \"#f0f921\"]]}, \"colorway\": [\"#636efa\", \"#EF553B\", \"#00cc96\", \"#ab63fa\", \"#FFA15A\", \"#19d3f3\", \"#FF6692\", \"#B6E880\", \"#FF97FF\", \"#FECB52\"], \"font\": {\"color\": \"#2a3f5f\"}, \"geo\": {\"bgcolor\": \"white\", \"lakecolor\": \"white\", \"landcolor\": \"#E5ECF6\", \"showlakes\": true, \"showland\": true, \"subunitcolor\": \"white\"}, \"hoverlabel\": {\"align\": \"left\"}, \"hovermode\": \"closest\", \"mapbox\": {\"style\": \"light\"}, \"paper_bgcolor\": \"white\", \"plot_bgcolor\": \"#E5ECF6\", \"polar\": {\"angularaxis\": {\"gridcolor\": \"white\", \"linecolor\": \"white\", \"ticks\": \"\"}, \"bgcolor\": \"#E5ECF6\", \"radialaxis\": {\"gridcolor\": \"white\", \"linecolor\": \"white\", \"ticks\": \"\"}}, \"scene\": {\"xaxis\": {\"backgroundcolor\": \"#E5ECF6\", \"gridcolor\": \"white\", \"gridwidth\": 2, \"linecolor\": \"white\", \"showbackground\": true, \"ticks\": \"\", \"zerolinecolor\": \"white\"}, \"yaxis\": {\"backgroundcolor\": \"#E5ECF6\", \"gridcolor\": \"white\", \"gridwidth\": 2, \"linecolor\": \"white\", \"showbackground\": true, \"ticks\": \"\", \"zerolinecolor\": \"white\"}, \"zaxis\": {\"backgroundcolor\": \"#E5ECF6\", \"gridcolor\": \"white\", \"gridwidth\": 2, \"linecolor\": \"white\", \"showbackground\": true, \"ticks\": \"\", \"zerolinecolor\": \"white\"}}, \"shapedefaults\": {\"line\": {\"color\": \"#2a3f5f\"}}, \"ternary\": {\"aaxis\": {\"gridcolor\": \"white\", \"linecolor\": \"white\", \"ticks\": \"\"}, \"baxis\": {\"gridcolor\": \"white\", \"linecolor\": \"white\", \"ticks\": \"\"}, \"bgcolor\": \"#E5ECF6\", \"caxis\": {\"gridcolor\": \"white\", \"linecolor\": \"white\", \"ticks\": \"\"}}, \"title\": {\"x\": 0.05}, \"xaxis\": {\"automargin\": true, \"gridcolor\": \"white\", \"linecolor\": \"white\", \"ticks\": \"\", \"title\": {\"standoff\": 15}, \"zerolinecolor\": \"white\", \"zerolinewidth\": 2}, \"yaxis\": {\"automargin\": true, \"gridcolor\": \"white\", \"linecolor\": \"white\", \"ticks\": \"\", \"title\": {\"standoff\": 15}, \"zerolinecolor\": \"white\", \"zerolinewidth\": 2}}}, \"title\": {\"text\": \"AUC-ROC comparision on Independent Test data\"}},                        {\"responsive\": true}                    ).then(function(){\n",
       "                            \n",
       "var gd = document.getElementById('a3bcc77b-8960-4531-bd86-976c440884d8');\n",
       "var x = new MutationObserver(function (mutations, observer) {{\n",
       "        var display = window.getComputedStyle(gd).display;\n",
       "        if (!display || display === 'none') {{\n",
       "            console.log([gd, 'removed!']);\n",
       "            Plotly.purge(gd);\n",
       "            observer.disconnect();\n",
       "        }}\n",
       "}});\n",
       "\n",
       "// Listen for the removal of the full notebook cells\n",
       "var notebookContainer = gd.closest('#notebook-container');\n",
       "if (notebookContainer) {{\n",
       "    x.observe(notebookContainer, {childList: true});\n",
       "}}\n",
       "\n",
       "// Listen for the clearing of the current output cell\n",
       "var outputEl = gd.closest('.output');\n",
       "if (outputEl) {{\n",
       "    x.observe(outputEl, {childList: true});\n",
       "}}\n",
       "\n",
       "                        })                };                });            </script>        </div>"
      ]
     },
     "metadata": {},
     "output_type": "display_data"
    }
   ],
   "source": [
    "\n",
    "x = ['Logistic Regression','Decision Trees','SVM','CatBoost', 'RANDOM FOREST', 'XGBoost','LightBoost']\n",
    "y = [lr_test_auc,dtc_test_auc,svm_test_auc,CBT_test_auc,RFC_test_auc, XGB_test_auc, LGB_test_auc]\n",
    "\n",
    "# Use the hovertext kw argument for hover text\n",
    "fig = go.Figure(data=[go.Bar(x=x, y=y)])\n",
    "# Customize aspect\n",
    "fig.update_traces(marker_color=['blue','red','#FF851B','#FF907B','pink','yellow','grey'], marker_line_color='rgb(255,255,255)',\n",
    "                  marker_line_width=1.5, opacity=0.5)\n",
    "fig.update_layout(title_text='AUC-ROC comparision on Independent Test data',font=dict(\n",
    "        family=\"Courier New, monospace\",\n",
    "        size=15,\n",
    "        color=\"Black\"\n",
    "    ))\n",
    "fig.show()\n",
    "\n",
    "fig.write_image('./Results/AUC-ROC comparision on Independent Test data.jpeg', width=2.5*300, height=2*300, scale=10)"
   ]
  },
  {
   "cell_type": "code",
   "execution_count": 19,
   "metadata": {
    "scrolled": false
   },
   "outputs": [
    {
     "data": {
      "application/vnd.plotly.v1+json": {
       "config": {
        "plotlyServerURL": "https://plot.ly"
       },
       "data": [
        {
         "marker": {
          "color": [
           "blue",
           "red",
           "#FF851B",
           "#FF907B",
           "pink",
           "yellow",
           "grey"
          ],
          "line": {
           "color": "rgb(255,255,255)",
           "width": 1.5
          }
         },
         "opacity": 0.5,
         "type": "bar",
         "x": [
          "Logistic Regression",
          "Decision Trees",
          "SVM",
          "CatBoost",
          "RANDOM FOREST",
          "XGBoost",
          "LightBoost"
         ],
         "y": [
          0.8062652743834704,
          0.848646146725295,
          0.43285051328927016,
          0.6698081454055873,
          0.3946846489488298,
          1,
          0.944963393082555
         ]
        }
       ],
       "layout": {
        "font": {
         "color": "Black",
         "family": "Courier New, monospace",
         "size": 15
        },
        "template": {
         "data": {
          "bar": [
           {
            "error_x": {
             "color": "#2a3f5f"
            },
            "error_y": {
             "color": "#2a3f5f"
            },
            "marker": {
             "line": {
              "color": "#E5ECF6",
              "width": 0.5
             }
            },
            "type": "bar"
           }
          ],
          "barpolar": [
           {
            "marker": {
             "line": {
              "color": "#E5ECF6",
              "width": 0.5
             }
            },
            "type": "barpolar"
           }
          ],
          "carpet": [
           {
            "aaxis": {
             "endlinecolor": "#2a3f5f",
             "gridcolor": "white",
             "linecolor": "white",
             "minorgridcolor": "white",
             "startlinecolor": "#2a3f5f"
            },
            "baxis": {
             "endlinecolor": "#2a3f5f",
             "gridcolor": "white",
             "linecolor": "white",
             "minorgridcolor": "white",
             "startlinecolor": "#2a3f5f"
            },
            "type": "carpet"
           }
          ],
          "choropleth": [
           {
            "colorbar": {
             "outlinewidth": 0,
             "ticks": ""
            },
            "type": "choropleth"
           }
          ],
          "contour": [
           {
            "colorbar": {
             "outlinewidth": 0,
             "ticks": ""
            },
            "colorscale": [
             [
              0,
              "#0d0887"
             ],
             [
              0.1111111111111111,
              "#46039f"
             ],
             [
              0.2222222222222222,
              "#7201a8"
             ],
             [
              0.3333333333333333,
              "#9c179e"
             ],
             [
              0.4444444444444444,
              "#bd3786"
             ],
             [
              0.5555555555555556,
              "#d8576b"
             ],
             [
              0.6666666666666666,
              "#ed7953"
             ],
             [
              0.7777777777777778,
              "#fb9f3a"
             ],
             [
              0.8888888888888888,
              "#fdca26"
             ],
             [
              1,
              "#f0f921"
             ]
            ],
            "type": "contour"
           }
          ],
          "contourcarpet": [
           {
            "colorbar": {
             "outlinewidth": 0,
             "ticks": ""
            },
            "type": "contourcarpet"
           }
          ],
          "heatmap": [
           {
            "colorbar": {
             "outlinewidth": 0,
             "ticks": ""
            },
            "colorscale": [
             [
              0,
              "#0d0887"
             ],
             [
              0.1111111111111111,
              "#46039f"
             ],
             [
              0.2222222222222222,
              "#7201a8"
             ],
             [
              0.3333333333333333,
              "#9c179e"
             ],
             [
              0.4444444444444444,
              "#bd3786"
             ],
             [
              0.5555555555555556,
              "#d8576b"
             ],
             [
              0.6666666666666666,
              "#ed7953"
             ],
             [
              0.7777777777777778,
              "#fb9f3a"
             ],
             [
              0.8888888888888888,
              "#fdca26"
             ],
             [
              1,
              "#f0f921"
             ]
            ],
            "type": "heatmap"
           }
          ],
          "heatmapgl": [
           {
            "colorbar": {
             "outlinewidth": 0,
             "ticks": ""
            },
            "colorscale": [
             [
              0,
              "#0d0887"
             ],
             [
              0.1111111111111111,
              "#46039f"
             ],
             [
              0.2222222222222222,
              "#7201a8"
             ],
             [
              0.3333333333333333,
              "#9c179e"
             ],
             [
              0.4444444444444444,
              "#bd3786"
             ],
             [
              0.5555555555555556,
              "#d8576b"
             ],
             [
              0.6666666666666666,
              "#ed7953"
             ],
             [
              0.7777777777777778,
              "#fb9f3a"
             ],
             [
              0.8888888888888888,
              "#fdca26"
             ],
             [
              1,
              "#f0f921"
             ]
            ],
            "type": "heatmapgl"
           }
          ],
          "histogram": [
           {
            "marker": {
             "colorbar": {
              "outlinewidth": 0,
              "ticks": ""
             }
            },
            "type": "histogram"
           }
          ],
          "histogram2d": [
           {
            "colorbar": {
             "outlinewidth": 0,
             "ticks": ""
            },
            "colorscale": [
             [
              0,
              "#0d0887"
             ],
             [
              0.1111111111111111,
              "#46039f"
             ],
             [
              0.2222222222222222,
              "#7201a8"
             ],
             [
              0.3333333333333333,
              "#9c179e"
             ],
             [
              0.4444444444444444,
              "#bd3786"
             ],
             [
              0.5555555555555556,
              "#d8576b"
             ],
             [
              0.6666666666666666,
              "#ed7953"
             ],
             [
              0.7777777777777778,
              "#fb9f3a"
             ],
             [
              0.8888888888888888,
              "#fdca26"
             ],
             [
              1,
              "#f0f921"
             ]
            ],
            "type": "histogram2d"
           }
          ],
          "histogram2dcontour": [
           {
            "colorbar": {
             "outlinewidth": 0,
             "ticks": ""
            },
            "colorscale": [
             [
              0,
              "#0d0887"
             ],
             [
              0.1111111111111111,
              "#46039f"
             ],
             [
              0.2222222222222222,
              "#7201a8"
             ],
             [
              0.3333333333333333,
              "#9c179e"
             ],
             [
              0.4444444444444444,
              "#bd3786"
             ],
             [
              0.5555555555555556,
              "#d8576b"
             ],
             [
              0.6666666666666666,
              "#ed7953"
             ],
             [
              0.7777777777777778,
              "#fb9f3a"
             ],
             [
              0.8888888888888888,
              "#fdca26"
             ],
             [
              1,
              "#f0f921"
             ]
            ],
            "type": "histogram2dcontour"
           }
          ],
          "mesh3d": [
           {
            "colorbar": {
             "outlinewidth": 0,
             "ticks": ""
            },
            "type": "mesh3d"
           }
          ],
          "parcoords": [
           {
            "line": {
             "colorbar": {
              "outlinewidth": 0,
              "ticks": ""
             }
            },
            "type": "parcoords"
           }
          ],
          "pie": [
           {
            "automargin": true,
            "type": "pie"
           }
          ],
          "scatter": [
           {
            "marker": {
             "colorbar": {
              "outlinewidth": 0,
              "ticks": ""
             }
            },
            "type": "scatter"
           }
          ],
          "scatter3d": [
           {
            "line": {
             "colorbar": {
              "outlinewidth": 0,
              "ticks": ""
             }
            },
            "marker": {
             "colorbar": {
              "outlinewidth": 0,
              "ticks": ""
             }
            },
            "type": "scatter3d"
           }
          ],
          "scattercarpet": [
           {
            "marker": {
             "colorbar": {
              "outlinewidth": 0,
              "ticks": ""
             }
            },
            "type": "scattercarpet"
           }
          ],
          "scattergeo": [
           {
            "marker": {
             "colorbar": {
              "outlinewidth": 0,
              "ticks": ""
             }
            },
            "type": "scattergeo"
           }
          ],
          "scattergl": [
           {
            "marker": {
             "colorbar": {
              "outlinewidth": 0,
              "ticks": ""
             }
            },
            "type": "scattergl"
           }
          ],
          "scattermapbox": [
           {
            "marker": {
             "colorbar": {
              "outlinewidth": 0,
              "ticks": ""
             }
            },
            "type": "scattermapbox"
           }
          ],
          "scatterpolar": [
           {
            "marker": {
             "colorbar": {
              "outlinewidth": 0,
              "ticks": ""
             }
            },
            "type": "scatterpolar"
           }
          ],
          "scatterpolargl": [
           {
            "marker": {
             "colorbar": {
              "outlinewidth": 0,
              "ticks": ""
             }
            },
            "type": "scatterpolargl"
           }
          ],
          "scatterternary": [
           {
            "marker": {
             "colorbar": {
              "outlinewidth": 0,
              "ticks": ""
             }
            },
            "type": "scatterternary"
           }
          ],
          "surface": [
           {
            "colorbar": {
             "outlinewidth": 0,
             "ticks": ""
            },
            "colorscale": [
             [
              0,
              "#0d0887"
             ],
             [
              0.1111111111111111,
              "#46039f"
             ],
             [
              0.2222222222222222,
              "#7201a8"
             ],
             [
              0.3333333333333333,
              "#9c179e"
             ],
             [
              0.4444444444444444,
              "#bd3786"
             ],
             [
              0.5555555555555556,
              "#d8576b"
             ],
             [
              0.6666666666666666,
              "#ed7953"
             ],
             [
              0.7777777777777778,
              "#fb9f3a"
             ],
             [
              0.8888888888888888,
              "#fdca26"
             ],
             [
              1,
              "#f0f921"
             ]
            ],
            "type": "surface"
           }
          ],
          "table": [
           {
            "cells": {
             "fill": {
              "color": "#EBF0F8"
             },
             "line": {
              "color": "white"
             }
            },
            "header": {
             "fill": {
              "color": "#C8D4E3"
             },
             "line": {
              "color": "white"
             }
            },
            "type": "table"
           }
          ]
         },
         "layout": {
          "annotationdefaults": {
           "arrowcolor": "#2a3f5f",
           "arrowhead": 0,
           "arrowwidth": 1
          },
          "coloraxis": {
           "colorbar": {
            "outlinewidth": 0,
            "ticks": ""
           }
          },
          "colorscale": {
           "diverging": [
            [
             0,
             "#8e0152"
            ],
            [
             0.1,
             "#c51b7d"
            ],
            [
             0.2,
             "#de77ae"
            ],
            [
             0.3,
             "#f1b6da"
            ],
            [
             0.4,
             "#fde0ef"
            ],
            [
             0.5,
             "#f7f7f7"
            ],
            [
             0.6,
             "#e6f5d0"
            ],
            [
             0.7,
             "#b8e186"
            ],
            [
             0.8,
             "#7fbc41"
            ],
            [
             0.9,
             "#4d9221"
            ],
            [
             1,
             "#276419"
            ]
           ],
           "sequential": [
            [
             0,
             "#0d0887"
            ],
            [
             0.1111111111111111,
             "#46039f"
            ],
            [
             0.2222222222222222,
             "#7201a8"
            ],
            [
             0.3333333333333333,
             "#9c179e"
            ],
            [
             0.4444444444444444,
             "#bd3786"
            ],
            [
             0.5555555555555556,
             "#d8576b"
            ],
            [
             0.6666666666666666,
             "#ed7953"
            ],
            [
             0.7777777777777778,
             "#fb9f3a"
            ],
            [
             0.8888888888888888,
             "#fdca26"
            ],
            [
             1,
             "#f0f921"
            ]
           ],
           "sequentialminus": [
            [
             0,
             "#0d0887"
            ],
            [
             0.1111111111111111,
             "#46039f"
            ],
            [
             0.2222222222222222,
             "#7201a8"
            ],
            [
             0.3333333333333333,
             "#9c179e"
            ],
            [
             0.4444444444444444,
             "#bd3786"
            ],
            [
             0.5555555555555556,
             "#d8576b"
            ],
            [
             0.6666666666666666,
             "#ed7953"
            ],
            [
             0.7777777777777778,
             "#fb9f3a"
            ],
            [
             0.8888888888888888,
             "#fdca26"
            ],
            [
             1,
             "#f0f921"
            ]
           ]
          },
          "colorway": [
           "#636efa",
           "#EF553B",
           "#00cc96",
           "#ab63fa",
           "#FFA15A",
           "#19d3f3",
           "#FF6692",
           "#B6E880",
           "#FF97FF",
           "#FECB52"
          ],
          "font": {
           "color": "#2a3f5f"
          },
          "geo": {
           "bgcolor": "white",
           "lakecolor": "white",
           "landcolor": "#E5ECF6",
           "showlakes": true,
           "showland": true,
           "subunitcolor": "white"
          },
          "hoverlabel": {
           "align": "left"
          },
          "hovermode": "closest",
          "mapbox": {
           "style": "light"
          },
          "paper_bgcolor": "white",
          "plot_bgcolor": "#E5ECF6",
          "polar": {
           "angularaxis": {
            "gridcolor": "white",
            "linecolor": "white",
            "ticks": ""
           },
           "bgcolor": "#E5ECF6",
           "radialaxis": {
            "gridcolor": "white",
            "linecolor": "white",
            "ticks": ""
           }
          },
          "scene": {
           "xaxis": {
            "backgroundcolor": "#E5ECF6",
            "gridcolor": "white",
            "gridwidth": 2,
            "linecolor": "white",
            "showbackground": true,
            "ticks": "",
            "zerolinecolor": "white"
           },
           "yaxis": {
            "backgroundcolor": "#E5ECF6",
            "gridcolor": "white",
            "gridwidth": 2,
            "linecolor": "white",
            "showbackground": true,
            "ticks": "",
            "zerolinecolor": "white"
           },
           "zaxis": {
            "backgroundcolor": "#E5ECF6",
            "gridcolor": "white",
            "gridwidth": 2,
            "linecolor": "white",
            "showbackground": true,
            "ticks": "",
            "zerolinecolor": "white"
           }
          },
          "shapedefaults": {
           "line": {
            "color": "#2a3f5f"
           }
          },
          "ternary": {
           "aaxis": {
            "gridcolor": "white",
            "linecolor": "white",
            "ticks": ""
           },
           "baxis": {
            "gridcolor": "white",
            "linecolor": "white",
            "ticks": ""
           },
           "bgcolor": "#E5ECF6",
           "caxis": {
            "gridcolor": "white",
            "linecolor": "white",
            "ticks": ""
           }
          },
          "title": {
           "x": 0.05
          },
          "xaxis": {
           "automargin": true,
           "gridcolor": "white",
           "linecolor": "white",
           "ticks": "",
           "title": {
            "standoff": 15
           },
           "zerolinecolor": "white",
           "zerolinewidth": 2
          },
          "yaxis": {
           "automargin": true,
           "gridcolor": "white",
           "linecolor": "white",
           "ticks": "",
           "title": {
            "standoff": 15
           },
           "zerolinecolor": "white",
           "zerolinewidth": 2
          }
         }
        },
        "title": {
         "text": "Kappa comparision on Independent Test data"
        }
       }
      },
      "text/html": [
       "<div>                            <div id=\"6c4e50ad-9578-413e-9395-66e2eef52296\" class=\"plotly-graph-div\" style=\"height:525px; width:100%;\"></div>            <script type=\"text/javascript\">                require([\"plotly\"], function(Plotly) {                    window.PLOTLYENV=window.PLOTLYENV || {};                                    if (document.getElementById(\"6c4e50ad-9578-413e-9395-66e2eef52296\")) {                    Plotly.newPlot(                        \"6c4e50ad-9578-413e-9395-66e2eef52296\",                        [{\"marker\": {\"color\": [\"blue\", \"red\", \"#FF851B\", \"#FF907B\", \"pink\", \"yellow\", \"grey\"], \"line\": {\"color\": \"rgb(255,255,255)\", \"width\": 1.5}}, \"opacity\": 0.5, \"type\": \"bar\", \"x\": [\"Logistic Regression\", \"Decision Trees\", \"SVM\", \"CatBoost\", \"RANDOM FOREST\", \"XGBoost\", \"LightBoost\"], \"y\": [0.8062652743834704, 0.848646146725295, 0.43285051328927016, 0.6698081454055873, 0.3946846489488298, 1.0, 0.944963393082555]}],                        {\"font\": {\"color\": \"Black\", \"family\": \"Courier New, monospace\", \"size\": 15}, \"template\": {\"data\": {\"bar\": [{\"error_x\": {\"color\": \"#2a3f5f\"}, \"error_y\": {\"color\": \"#2a3f5f\"}, \"marker\": {\"line\": {\"color\": \"#E5ECF6\", \"width\": 0.5}}, \"type\": \"bar\"}], \"barpolar\": [{\"marker\": {\"line\": {\"color\": \"#E5ECF6\", \"width\": 0.5}}, \"type\": \"barpolar\"}], \"carpet\": [{\"aaxis\": {\"endlinecolor\": \"#2a3f5f\", \"gridcolor\": \"white\", \"linecolor\": \"white\", \"minorgridcolor\": \"white\", \"startlinecolor\": \"#2a3f5f\"}, \"baxis\": {\"endlinecolor\": \"#2a3f5f\", \"gridcolor\": \"white\", \"linecolor\": \"white\", \"minorgridcolor\": \"white\", \"startlinecolor\": \"#2a3f5f\"}, \"type\": \"carpet\"}], \"choropleth\": [{\"colorbar\": {\"outlinewidth\": 0, \"ticks\": \"\"}, \"type\": \"choropleth\"}], \"contour\": [{\"colorbar\": {\"outlinewidth\": 0, \"ticks\": \"\"}, \"colorscale\": [[0.0, \"#0d0887\"], [0.1111111111111111, \"#46039f\"], [0.2222222222222222, \"#7201a8\"], [0.3333333333333333, \"#9c179e\"], [0.4444444444444444, \"#bd3786\"], [0.5555555555555556, \"#d8576b\"], [0.6666666666666666, \"#ed7953\"], [0.7777777777777778, \"#fb9f3a\"], [0.8888888888888888, \"#fdca26\"], [1.0, \"#f0f921\"]], \"type\": \"contour\"}], \"contourcarpet\": [{\"colorbar\": {\"outlinewidth\": 0, \"ticks\": \"\"}, \"type\": \"contourcarpet\"}], \"heatmap\": [{\"colorbar\": {\"outlinewidth\": 0, \"ticks\": \"\"}, \"colorscale\": [[0.0, \"#0d0887\"], [0.1111111111111111, \"#46039f\"], [0.2222222222222222, \"#7201a8\"], [0.3333333333333333, \"#9c179e\"], [0.4444444444444444, \"#bd3786\"], [0.5555555555555556, \"#d8576b\"], [0.6666666666666666, \"#ed7953\"], [0.7777777777777778, \"#fb9f3a\"], [0.8888888888888888, \"#fdca26\"], [1.0, \"#f0f921\"]], \"type\": \"heatmap\"}], \"heatmapgl\": [{\"colorbar\": {\"outlinewidth\": 0, \"ticks\": \"\"}, \"colorscale\": [[0.0, \"#0d0887\"], [0.1111111111111111, \"#46039f\"], [0.2222222222222222, \"#7201a8\"], [0.3333333333333333, \"#9c179e\"], [0.4444444444444444, \"#bd3786\"], [0.5555555555555556, \"#d8576b\"], [0.6666666666666666, \"#ed7953\"], [0.7777777777777778, \"#fb9f3a\"], [0.8888888888888888, \"#fdca26\"], [1.0, \"#f0f921\"]], \"type\": \"heatmapgl\"}], \"histogram\": [{\"marker\": {\"colorbar\": {\"outlinewidth\": 0, \"ticks\": \"\"}}, \"type\": \"histogram\"}], \"histogram2d\": [{\"colorbar\": {\"outlinewidth\": 0, \"ticks\": \"\"}, \"colorscale\": [[0.0, \"#0d0887\"], [0.1111111111111111, \"#46039f\"], [0.2222222222222222, \"#7201a8\"], [0.3333333333333333, \"#9c179e\"], [0.4444444444444444, \"#bd3786\"], [0.5555555555555556, \"#d8576b\"], [0.6666666666666666, \"#ed7953\"], [0.7777777777777778, \"#fb9f3a\"], [0.8888888888888888, \"#fdca26\"], [1.0, \"#f0f921\"]], \"type\": \"histogram2d\"}], \"histogram2dcontour\": [{\"colorbar\": {\"outlinewidth\": 0, \"ticks\": \"\"}, \"colorscale\": [[0.0, \"#0d0887\"], [0.1111111111111111, \"#46039f\"], [0.2222222222222222, \"#7201a8\"], [0.3333333333333333, \"#9c179e\"], [0.4444444444444444, \"#bd3786\"], [0.5555555555555556, \"#d8576b\"], [0.6666666666666666, \"#ed7953\"], [0.7777777777777778, \"#fb9f3a\"], [0.8888888888888888, \"#fdca26\"], [1.0, \"#f0f921\"]], \"type\": \"histogram2dcontour\"}], \"mesh3d\": [{\"colorbar\": {\"outlinewidth\": 0, \"ticks\": \"\"}, \"type\": \"mesh3d\"}], \"parcoords\": [{\"line\": {\"colorbar\": {\"outlinewidth\": 0, \"ticks\": \"\"}}, \"type\": \"parcoords\"}], \"pie\": [{\"automargin\": true, \"type\": \"pie\"}], \"scatter\": [{\"marker\": {\"colorbar\": {\"outlinewidth\": 0, \"ticks\": \"\"}}, \"type\": \"scatter\"}], \"scatter3d\": [{\"line\": {\"colorbar\": {\"outlinewidth\": 0, \"ticks\": \"\"}}, \"marker\": {\"colorbar\": {\"outlinewidth\": 0, \"ticks\": \"\"}}, \"type\": \"scatter3d\"}], \"scattercarpet\": [{\"marker\": {\"colorbar\": {\"outlinewidth\": 0, \"ticks\": \"\"}}, \"type\": \"scattercarpet\"}], \"scattergeo\": [{\"marker\": {\"colorbar\": {\"outlinewidth\": 0, \"ticks\": \"\"}}, \"type\": \"scattergeo\"}], \"scattergl\": [{\"marker\": {\"colorbar\": {\"outlinewidth\": 0, \"ticks\": \"\"}}, \"type\": \"scattergl\"}], \"scattermapbox\": [{\"marker\": {\"colorbar\": {\"outlinewidth\": 0, \"ticks\": \"\"}}, \"type\": \"scattermapbox\"}], \"scatterpolar\": [{\"marker\": {\"colorbar\": {\"outlinewidth\": 0, \"ticks\": \"\"}}, \"type\": \"scatterpolar\"}], \"scatterpolargl\": [{\"marker\": {\"colorbar\": {\"outlinewidth\": 0, \"ticks\": \"\"}}, \"type\": \"scatterpolargl\"}], \"scatterternary\": [{\"marker\": {\"colorbar\": {\"outlinewidth\": 0, \"ticks\": \"\"}}, \"type\": \"scatterternary\"}], \"surface\": [{\"colorbar\": {\"outlinewidth\": 0, \"ticks\": \"\"}, \"colorscale\": [[0.0, \"#0d0887\"], [0.1111111111111111, \"#46039f\"], [0.2222222222222222, \"#7201a8\"], [0.3333333333333333, \"#9c179e\"], [0.4444444444444444, \"#bd3786\"], [0.5555555555555556, \"#d8576b\"], [0.6666666666666666, \"#ed7953\"], [0.7777777777777778, \"#fb9f3a\"], [0.8888888888888888, \"#fdca26\"], [1.0, \"#f0f921\"]], \"type\": \"surface\"}], \"table\": [{\"cells\": {\"fill\": {\"color\": \"#EBF0F8\"}, \"line\": {\"color\": \"white\"}}, \"header\": {\"fill\": {\"color\": \"#C8D4E3\"}, \"line\": {\"color\": \"white\"}}, \"type\": \"table\"}]}, \"layout\": {\"annotationdefaults\": {\"arrowcolor\": \"#2a3f5f\", \"arrowhead\": 0, \"arrowwidth\": 1}, \"coloraxis\": {\"colorbar\": {\"outlinewidth\": 0, \"ticks\": \"\"}}, \"colorscale\": {\"diverging\": [[0, \"#8e0152\"], [0.1, \"#c51b7d\"], [0.2, \"#de77ae\"], [0.3, \"#f1b6da\"], [0.4, \"#fde0ef\"], [0.5, \"#f7f7f7\"], [0.6, \"#e6f5d0\"], [0.7, \"#b8e186\"], [0.8, \"#7fbc41\"], [0.9, \"#4d9221\"], [1, \"#276419\"]], \"sequential\": [[0.0, \"#0d0887\"], [0.1111111111111111, \"#46039f\"], [0.2222222222222222, \"#7201a8\"], [0.3333333333333333, \"#9c179e\"], [0.4444444444444444, \"#bd3786\"], [0.5555555555555556, \"#d8576b\"], [0.6666666666666666, \"#ed7953\"], [0.7777777777777778, \"#fb9f3a\"], [0.8888888888888888, \"#fdca26\"], [1.0, \"#f0f921\"]], \"sequentialminus\": [[0.0, \"#0d0887\"], [0.1111111111111111, \"#46039f\"], [0.2222222222222222, \"#7201a8\"], [0.3333333333333333, \"#9c179e\"], [0.4444444444444444, \"#bd3786\"], [0.5555555555555556, \"#d8576b\"], [0.6666666666666666, \"#ed7953\"], [0.7777777777777778, \"#fb9f3a\"], [0.8888888888888888, \"#fdca26\"], [1.0, \"#f0f921\"]]}, \"colorway\": [\"#636efa\", \"#EF553B\", \"#00cc96\", \"#ab63fa\", \"#FFA15A\", \"#19d3f3\", \"#FF6692\", \"#B6E880\", \"#FF97FF\", \"#FECB52\"], \"font\": {\"color\": \"#2a3f5f\"}, \"geo\": {\"bgcolor\": \"white\", \"lakecolor\": \"white\", \"landcolor\": \"#E5ECF6\", \"showlakes\": true, \"showland\": true, \"subunitcolor\": \"white\"}, \"hoverlabel\": {\"align\": \"left\"}, \"hovermode\": \"closest\", \"mapbox\": {\"style\": \"light\"}, \"paper_bgcolor\": \"white\", \"plot_bgcolor\": \"#E5ECF6\", \"polar\": {\"angularaxis\": {\"gridcolor\": \"white\", \"linecolor\": \"white\", \"ticks\": \"\"}, \"bgcolor\": \"#E5ECF6\", \"radialaxis\": {\"gridcolor\": \"white\", \"linecolor\": \"white\", \"ticks\": \"\"}}, \"scene\": {\"xaxis\": {\"backgroundcolor\": \"#E5ECF6\", \"gridcolor\": \"white\", \"gridwidth\": 2, \"linecolor\": \"white\", \"showbackground\": true, \"ticks\": \"\", \"zerolinecolor\": \"white\"}, \"yaxis\": {\"backgroundcolor\": \"#E5ECF6\", \"gridcolor\": \"white\", \"gridwidth\": 2, \"linecolor\": \"white\", \"showbackground\": true, \"ticks\": \"\", \"zerolinecolor\": \"white\"}, \"zaxis\": {\"backgroundcolor\": \"#E5ECF6\", \"gridcolor\": \"white\", \"gridwidth\": 2, \"linecolor\": \"white\", \"showbackground\": true, \"ticks\": \"\", \"zerolinecolor\": \"white\"}}, \"shapedefaults\": {\"line\": {\"color\": \"#2a3f5f\"}}, \"ternary\": {\"aaxis\": {\"gridcolor\": \"white\", \"linecolor\": \"white\", \"ticks\": \"\"}, \"baxis\": {\"gridcolor\": \"white\", \"linecolor\": \"white\", \"ticks\": \"\"}, \"bgcolor\": \"#E5ECF6\", \"caxis\": {\"gridcolor\": \"white\", \"linecolor\": \"white\", \"ticks\": \"\"}}, \"title\": {\"x\": 0.05}, \"xaxis\": {\"automargin\": true, \"gridcolor\": \"white\", \"linecolor\": \"white\", \"ticks\": \"\", \"title\": {\"standoff\": 15}, \"zerolinecolor\": \"white\", \"zerolinewidth\": 2}, \"yaxis\": {\"automargin\": true, \"gridcolor\": \"white\", \"linecolor\": \"white\", \"ticks\": \"\", \"title\": {\"standoff\": 15}, \"zerolinecolor\": \"white\", \"zerolinewidth\": 2}}}, \"title\": {\"text\": \"Kappa comparision on Independent Test data\"}},                        {\"responsive\": true}                    ).then(function(){\n",
       "                            \n",
       "var gd = document.getElementById('6c4e50ad-9578-413e-9395-66e2eef52296');\n",
       "var x = new MutationObserver(function (mutations, observer) {{\n",
       "        var display = window.getComputedStyle(gd).display;\n",
       "        if (!display || display === 'none') {{\n",
       "            console.log([gd, 'removed!']);\n",
       "            Plotly.purge(gd);\n",
       "            observer.disconnect();\n",
       "        }}\n",
       "}});\n",
       "\n",
       "// Listen for the removal of the full notebook cells\n",
       "var notebookContainer = gd.closest('#notebook-container');\n",
       "if (notebookContainer) {{\n",
       "    x.observe(notebookContainer, {childList: true});\n",
       "}}\n",
       "\n",
       "// Listen for the clearing of the current output cell\n",
       "var outputEl = gd.closest('.output');\n",
       "if (outputEl) {{\n",
       "    x.observe(outputEl, {childList: true});\n",
       "}}\n",
       "\n",
       "                        })                };                });            </script>        </div>"
      ]
     },
     "metadata": {},
     "output_type": "display_data"
    }
   ],
   "source": [
    "\n",
    "x = ['Logistic Regression','Decision Trees','SVM','CatBoost', 'RANDOM FOREST', 'XGBoost','LightBoost']\n",
    "y = [lr_test_kappa,dtc_test_kappa,svm_test_kappa,CBT_test_kappa,RFC_test_kappa, XGB_test_kappa, LGB_test_kappa]\n",
    "\n",
    "# Use the hovertext kw argument for hover text\n",
    "fig = go.Figure(data=[go.Bar(x=x, y=y)])\n",
    "# Customize aspect\n",
    "fig.update_traces(marker_color=['blue','red','#FF851B','#FF907B','pink','yellow','grey'], marker_line_color='rgb(255,255,255)',\n",
    "                  marker_line_width=1.5, opacity=0.5)\n",
    "fig.update_layout(title_text='Kappa comparision on Independent Test data',font=dict(\n",
    "        family=\"Courier New, monospace\",\n",
    "        size=15,\n",
    "        color=\"Black\"))\n",
    "fig.show()\n",
    "\n",
    "fig.write_image('./Results/Kappa comparision on Independent Test data.jpeg', width=2.5*300, height=2*300, scale=10)"
   ]
  },
  {
   "cell_type": "markdown",
   "metadata": {},
   "source": [
    "### AUC-ROC curves of Normal classifiers"
   ]
  },
  {
   "cell_type": "code",
   "execution_count": 20,
   "metadata": {
    "scrolled": false
   },
   "outputs": [
    {
     "data": {
      "image/png": "[encoded data removed]",
      "text/plain": [
       "<Figure size 576x432 with 1 Axes>"
      ]
     },
     "metadata": {
      "needs_background": "light"
     },
     "output_type": "display_data"
    }
   ],
   "source": [
    "y_testt = test['Disease Status (NSCLC: primary tumors; Normal: non-tumor lung tissues)']\n",
    "x_testt = test[test.columns[:-1]]\n",
    "\n",
    "\n",
    "\n",
    "# Instantiate the classfiers and make a list\n",
    "classifiers = [model_lr, \n",
    "               model_dtc, \n",
    "               model_svm]\n",
    "\n",
    "# Define a result table as a DataFrame\n",
    "result_table = pd.DataFrame(columns=['classifiers', 'fpr','tpr','auc'])\n",
    "\n",
    "# Train the models and record the results\n",
    "for cls in classifiers:\n",
    "    yproba = cls.predict_proba(x_testt)[::,1]\n",
    "    \n",
    "    fpr, tpr, _ = roc_curve(y_testt,  yproba)\n",
    "    \n",
    "    \n",
    "    yproba = cls.predict(x_testt)\n",
    "    auc = roc_auc_score(y_testt,yproba)\n",
    "    \n",
    "    result_table = result_table.append({'classifiers':cls.__class__.__name__,\n",
    "                                        'fpr':fpr, \n",
    "                                        'tpr':tpr, \n",
    "                                        'auc':auc}, ignore_index=True)\n",
    "\n",
    "# Set name of the classifiers as index labels\n",
    "result_table.set_index('classifiers', inplace=True)\n",
    "\n",
    "fig = plt.figure(figsize=(8,6))\n",
    "\n",
    "for i in result_table.index:\n",
    "    plt.plot(result_table.loc[i]['fpr'], \n",
    "             result_table.loc[i]['tpr'], \n",
    "             label=\"{}, AUC-ROC={:.3f}\".format(i, result_table.loc[i]['auc']))\n",
    "    \n",
    "plt.plot([0,1], [0,1], color='orange', linestyle='--')\n",
    "\n",
    "plt.xticks(np.arange(0.0, 1.1, step=0.1))\n",
    "plt.xlabel(\"False Positive Rate\", fontsize=15)\n",
    "\n",
    "plt.yticks(np.arange(0.0, 1.1, step=0.1))\n",
    "plt.ylabel(\"True Positive Rate\", fontsize=15)\n",
    "\n",
    "plt.title('Test AUC-ROC Curve Analysis on Normal classifiers', fontweight='bold', fontsize=15)\n",
    "plt.legend(prop={'size':15}, loc='lower right')\n",
    "\n",
    "plt.show()\n",
    "\n",
    "fig.savefig('./Results/Test AUC-ROC Curve Analysis on Normal classifiers.jpeg', dpi=600, bbox_inches='tight')"
   ]
  },
  {
   "cell_type": "markdown",
   "metadata": {},
   "source": [
    "### AUC-ROC comparision on Ensemble Classifiers"
   ]
  },
  {
   "cell_type": "code",
   "execution_count": 21,
   "metadata": {},
   "outputs": [
    {
     "data": {
      "image/png": "[encoded data removed]",
      "text/plain": [
       "<Figure size 576x432 with 1 Axes>"
      ]
     },
     "metadata": {
      "needs_background": "light"
     },
     "output_type": "display_data"
    }
   ],
   "source": [
    "y_testt = test['Disease Status (NSCLC: primary tumors; Normal: non-tumor lung tissues)']\n",
    "x_testt = test[test.columns[:-1]]\n",
    "\n",
    "# Instantiate the classfiers and make a list\n",
    "classifiers = [model_ctb, \n",
    "               model_rf, \n",
    "               model_xgb,model_lgb]\n",
    "\n",
    "c = [1,1,0,1]\n",
    "f = 0\n",
    "# Define a result table as a DataFrame\n",
    "result_table = pd.DataFrame(columns=['classifiers', 'fpr','tpr','auc'])\n",
    "\n",
    "# Train the models and record the results\n",
    "for cls in classifiers:\n",
    "    \n",
    "    if(c[f] ==0):\n",
    "        x_testtt = xgb.DMatrix(np.array(x_testt),y_testt)     \n",
    "        yproba = cls.predict(x_testtt)\n",
    "        fpr, tpr, _ = roc_curve(y_testt,  yproba)\n",
    "        y_proba1 = []\n",
    "        for i in yproba:\n",
    "            if i>0.6:\n",
    "                y_proba1.append(1)\n",
    "            else:\n",
    "                y_proba1.append(0)\n",
    "        \n",
    "        \n",
    "        auc = roc_auc_score(y_testt,y_proba1)\n",
    "      \n",
    "        \n",
    "    else:\n",
    "\n",
    "        yproba = cls.predict_proba(x_testt)[::,1]\n",
    "\n",
    "        fpr, tpr, _ = roc_curve(y_testt,  yproba)\n",
    "\n",
    "        yproba = cls.predict(x_testt)\n",
    "        auc = roc_auc_score(y_testt,yproba)\n",
    "\n",
    "    result_table = result_table.append({'classifiers':cls.__class__.__name__,\n",
    "                                        'fpr':fpr, \n",
    "                                        'tpr':tpr, \n",
    "                                        'auc':auc}, ignore_index=True)\n",
    "\n",
    "    f+=1\n",
    "        \n",
    "# Set name of the classifiers as index labels\n",
    "result_table.set_index('classifiers', inplace=True)\n",
    "fig = plt.figure(figsize=(8,6))\n",
    "\n",
    "for i in result_table.index:\n",
    "    plt.plot(result_table.loc[i]['fpr'], \n",
    "             result_table.loc[i]['tpr'], \n",
    "             label=\"{}, AUC-ROC={:.3f}\".format(i, result_table.loc[i]['auc']))\n",
    "    \n",
    "plt.plot([0,1], [0,1], color='orange', linestyle='--')\n",
    "\n",
    "plt.xlabel(\"False Positive Rate\", fontsize=15)\n",
    "\n",
    "plt.yticks(np.arange(0.0, 1.1, step=0.1))\n",
    "plt.ylabel(\"True Positive Rate\", fontsize=15)\n",
    "\n",
    "plt.title('Test AUC-ROC Curve Analysis on Ensemble classifiers', fontweight='bold', fontsize=15)\n",
    "plt.legend(prop={'size':15}, loc='lower right')\n",
    "\n",
    "plt.show()\n",
    "\n",
    "fig.savefig('./Results/Test AUC-ROC Curve Analysis on Ensemble classifiers.jpeg', dpi=600, bbox_inches='tight')"
   ]
  },
  {
   "cell_type": "markdown",
   "metadata": {},
   "source": [
    "## Building AUC-ROC curves on the validation dataset"
   ]
  },
  {
   "cell_type": "markdown",
   "metadata": {},
   "source": [
    "#### Normal classifiers"
   ]
  },
  {
   "cell_type": "code",
   "execution_count": 22,
   "metadata": {},
   "outputs": [
    {
     "data": {
      "image/png": "[encoded data removed]",
      "text/plain": [
       "<Figure size 576x432 with 1 Axes>"
      ]
     },
     "metadata": {
      "needs_background": "light"
     },
     "output_type": "display_data"
    }
   ],
   "source": [
    "y = train['Disease Status (NSCLC: primary tumors; Normal: non-tumor lung tissues)']\n",
    "x = train[train.columns[:-1]]\n",
    "x = np.asarray(x)\n",
    "y = np.asarray(y)\n",
    "\n",
    "X_train, X_val, y_train, Y_val = train_test_split(x, y, test_size=0.2, random_state=42)\n",
    "\n",
    "x_testt, y_testt = sm.fit_sample(X_val, Y_val.ravel())\n",
    "# Instantiate the classfiers and make a list\n",
    "classifiers = [model_lr, \n",
    "               model_dtc, \n",
    "               model_svm]\n",
    "\n",
    "# Define a result table as a DataFrame\n",
    "result_table = pd.DataFrame(columns=['classifiers', 'fpr','tpr','auc'])\n",
    "\n",
    "# Train the models and record the results\n",
    "for cls in classifiers:\n",
    "    yproba = cls.predict_proba(x_testt)[::,1]\n",
    "    \n",
    "    fpr, tpr, _ = roc_curve(y_testt,  yproba)\n",
    "    \n",
    "    \n",
    "    yproba = cls.predict(x_testt)\n",
    "    auc = roc_auc_score(y_testt,yproba)\n",
    "    \n",
    "    result_table = result_table.append({'classifiers':cls.__class__.__name__,\n",
    "                                        'fpr':fpr, \n",
    "                                        'tpr':tpr, \n",
    "                                        'auc':auc}, ignore_index=True)\n",
    "\n",
    "# Set name of the classifiers as index labels\n",
    "result_table.set_index('classifiers', inplace=True)\n",
    "fig = plt.figure(figsize=(8,6))\n",
    "\n",
    "for i in result_table.index:\n",
    "    plt.plot(result_table.loc[i]['fpr'], \n",
    "             result_table.loc[i]['tpr'], \n",
    "             label=\"{}, AUC-ROC={:.3f}\".format(i, result_table.loc[i]['auc']))\n",
    "    \n",
    "plt.plot([0,1], [0,1], color='orange', linestyle='--')\n",
    "\n",
    "plt.xticks(np.arange(0.0, 1.1, step=0.1))\n",
    "plt.xlabel(\"False Positive Rate\", fontsize=15)\n",
    "\n",
    "plt.yticks(np.arange(0.0, 1.1, step=0.1))\n",
    "plt.ylabel(\"True Positive Rate\", fontsize=15)\n",
    "\n",
    "plt.title('Validation AUC-ROC Curve Analysis on Normal classifiers', fontweight='bold', fontsize=15)\n",
    "plt.legend(prop={'size':15}, loc='lower right')\n",
    "\n",
    "plt.show()\n",
    "\n",
    "fig.savefig('./Results/Validation AUC-ROC Curve Analysis on Normal classifiers.jpeg', dpi=600, bbox_inches='tight')"
   ]
  },
  {
   "cell_type": "markdown",
   "metadata": {},
   "source": [
    "### Ensemble Classifiers"
   ]
  },
  {
   "cell_type": "code",
   "execution_count": 23,
   "metadata": {},
   "outputs": [
    {
     "data": {
      "image/png": "[encoded data removed]",
      "text/plain": [
       "<Figure size 576x432 with 1 Axes>"
      ]
     },
     "metadata": {
      "needs_background": "light"
     },
     "output_type": "display_data"
    }
   ],
   "source": [
    "y = train['Disease Status (NSCLC: primary tumors; Normal: non-tumor lung tissues)']\n",
    "x = train[train.columns[:-1]]\n",
    "x = np.asarray(x)\n",
    "y = np.asarray(y)\n",
    "\n",
    "X_train, X_val, y_train, Y_val = train_test_split(x, y, test_size=0.2, random_state=42)\n",
    "\n",
    "x_testt, y_testt = sm.fit_sample(X_val, Y_val.ravel())\n",
    "# Instantiate the classfiers and make a list\n",
    "classifiers = [model_ctb, \n",
    "               model_rf, \n",
    "               model_xgb,model_lgb]\n",
    "\n",
    "c = [1,1,0,1]\n",
    "f = 0\n",
    "# Define a result table as a DataFrame\n",
    "result_table = pd.DataFrame(columns=['classifiers', 'fpr','tpr','auc'])\n",
    "\n",
    "# Train the models and record the results\n",
    "for cls in classifiers:\n",
    "    \n",
    "    if(c[f] ==0):\n",
    "        x_testtt = xgb.DMatrix(np.array(x_testt),y_testt)\n",
    "        yproba = cls.predict(x_testtt)\n",
    "\n",
    "        fpr, tpr, _ = roc_curve(y_testt,  yproba)\n",
    "        y_proba1 = []\n",
    "        for i in yproba:\n",
    "            if i>0.6:\n",
    "                y_proba1.append(1)\n",
    "            else:\n",
    "                y_proba1.append(0)\n",
    "        \n",
    "        \n",
    "        auc = roc_auc_score(y_testt,y_proba1)\n",
    "      \n",
    "        \n",
    "    else:\n",
    "\n",
    "        yproba = cls.predict_proba(x_testt)[::,1]\n",
    "\n",
    "        fpr, tpr, _ = roc_curve(y_testt,  yproba)\n",
    "\n",
    "        yproba = cls.predict(x_testt)\n",
    "        auc = roc_auc_score(y_testt,yproba)\n",
    "\n",
    "    result_table = result_table.append({'classifiers':cls.__class__.__name__,\n",
    "                                        'fpr':fpr, \n",
    "                                        'tpr':tpr, \n",
    "                                        'auc':auc}, ignore_index=True)\n",
    "\n",
    "    f+=1\n",
    "        \n",
    "# Set name of the classifiers as index labels\n",
    "result_table.set_index('classifiers', inplace=True)\n",
    "\n",
    "fig = plt.figure(figsize=(8,6))\n",
    "\n",
    "for i in result_table.index:\n",
    "    plt.plot(result_table.loc[i]['fpr'], \n",
    "             result_table.loc[i]['tpr'], \n",
    "             label=\"{}, AUC-ROC={:.3f}\".format(i, result_table.loc[i]['auc']))\n",
    "    \n",
    "plt.plot([0,1], [0,1], color='orange', linestyle='--')\n",
    "\n",
    "plt.xticks(np.arange(0.0, 1.1, step=0.1))\n",
    "plt.xlabel(\"False Positive Rate\", fontsize=15)\n",
    "\n",
    "plt.yticks(np.arange(0.0, 1.1, step=0.1))\n",
    "plt.ylabel(\"True Positive Rate\", fontsize=15)\n",
    "\n",
    "plt.title('Validation AUC-ROC Curve Analysis on Ensemble classifiers', fontweight='bold', fontsize=15)\n",
    "plt.legend(prop={'size':15}, loc='lower right')\n",
    "\n",
    "plt.show()\n",
    "\n",
    "fig.savefig('./Results/Validation AUC-ROC Curve Analysis on Ensemble classifiers.jpeg', dpi=600, bbox_inches='tight')"
   ]
  }
 ],
 "metadata": {
  "kernelspec": {
   "display_name": "Python 3.6.15 ('lokesh')",
   "language": "python",
   "name": "python3"
  },
  "language_info": {
   "codemirror_mode": {
    "name": "ipython",
    "version": 3
   },
   "file_extension": ".py",
   "mimetype": "text/x-python",
   "name": "python",
   "nbconvert_exporter": "python",
   "pygments_lexer": "ipython3",
   "version": "3.6.15"
  },
  "vscode": {
   "interpreter": {
    "hash": "2080fa87a05f97d60d4844e74ef93dcfdf450148550caff52348153ab417f7df"
   }
  }
 },
 "nbformat": 4,
 "nbformat_minor": 4
}
