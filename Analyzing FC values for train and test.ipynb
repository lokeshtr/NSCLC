{
 "cells": [
  {
   "cell_type": "markdown",
   "metadata": {},
   "source": [
    "# This Notebook contains the code to calculate FC values"
   ]
  },
  {
   "cell_type": "markdown",
   "metadata": {},
   "source": [
    "contact:\n",
    "\n",
    "Saransh Gupta: saransh.official.iitkgp@gmail.com\n",
    "\n",
    "Website: http://saranshqm.github.io/\n",
    "\n",
    "Merge files to : https://github.com/saranshqm/NIBIOHN-NSCLC\n",
    "\n",
    "Importing all required Libraries"
   ]
  },
  {
   "cell_type": "code",
   "execution_count": 1,
   "metadata": {},
   "outputs": [
    {
     "name": "stdout",
     "output_type": "stream",
     "text": [
      "SEPT4 was present already\n"
     ]
    }
   ],
   "source": [
    "import pandas as pd\n",
    "import numpy as np\n",
    "import warnings\n",
    "warnings.filterwarnings(\"ignore\")\n",
    "df = pd.read_csv('original_data_with_412_genes.csv')\n",
    "df = df.drop(['Unnamed: 0'],axis = 1)\n",
    "\n",
    "try:\n",
    "    df['SEPT4']\n",
    "\n",
    "except:\n",
    "    df.rename(columns={'Sep-04': 'SEPT4'}, inplace=True)\n",
    "else:\n",
    "    print('SEPT4 was present already')\n",
    "   \n",
    "\n",
    "disease = df.loc[df['Disease Status (NSCLC: primary tumors; Normal: non-tumor lung tissues)'] == 0]\n",
    "normal  = df.loc[df['Disease Status (NSCLC: primary tumors; Normal: non-tumor lung tissues)'] == 1]\n",
    "disease = disease[disease.columns[:-1]]\n",
    "normal = normal[normal.columns[:-1]]"
   ]
  },
  {
   "cell_type": "code",
   "execution_count": 2,
   "metadata": {},
   "outputs": [],
   "source": [
    "disease_expressions = []\n",
    "normal_expressions = []\n",
    "\n",
    "for i in range(normal.shape[1]):\n",
    "    disease_expressions.append(np.mean(disease[disease.columns[i]]))\n",
    "    normal_expressions.append(np.mean(normal[normal.columns[i]]))"
   ]
  },
  {
   "cell_type": "code",
   "execution_count": 3,
   "metadata": {},
   "outputs": [
    {
     "name": "stdout",
     "output_type": "stream",
     "text": [
      "Number of genes out of 412 in training data-set having FC>1:\t 176\n",
      "\n",
      "Note:\n",
      "\"genes_vs_FC\" variable contains FC values for all 412 genes for the training data-set\n"
     ]
    }
   ],
   "source": [
    "disease_expressions = np.asarray(disease_expressions)\n",
    "normal_expressions = np.asarray(normal_expressions)\n",
    "FC = disease_expressions/normal_expressions\n",
    "sum = 0\n",
    "for i in FC:\n",
    "    if i>1:\n",
    "        sum+=1\n",
    "print('Number of genes out of 412 in training data-set having FC>1:\\t',sum)\n",
    "genes_vs_FC = list(zip(disease.columns, FC))\n",
    "print('\\nNote:')\n",
    "print('\"genes_vs_FC\" variable contains FC values for all 412 genes for the training data-set')"
   ]
  },
  {
   "cell_type": "markdown",
   "metadata": {},
   "source": [
    "write \"genes_vs_FC\" to txt file"
   ]
  },
  {
   "cell_type": "code",
   "execution_count": 4,
   "metadata": {},
   "outputs": [],
   "source": [
    "with open(\"genes_vs_FC_train.txt\", \"w\") as outfile:\n",
    "    outfile.write(\"\\n\".join(str(item) for item in genes_vs_FC))\n"
   ]
  },
  {
   "cell_type": "markdown",
   "metadata": {},
   "source": [
    "# Checking FC values for test data"
   ]
  },
  {
   "cell_type": "code",
   "execution_count": 5,
   "metadata": {},
   "outputs": [
    {
     "name": "stdout",
     "output_type": "stream",
     "text": [
      "SEPT4 was present already\n"
     ]
    }
   ],
   "source": [
    "df = pd.read_csv('test_after_features_selection.csv')\n",
    "df = df.drop(['Unnamed: 0'],axis = 1)\n",
    "\n",
    "try:\n",
    "    df['SEPT4']\n",
    "\n",
    "except:\n",
    "    df.rename(columns={'Sep-04': 'SEPT4'}, inplace=True)\n",
    "else:\n",
    "    print('SEPT4 was present already')\n",
    "   \n",
    "\n",
    "disease = df.loc[df['Disease Status (NSCLC: primary tumors; Normal: non-tumor lung tissues)'] == 0]\n",
    "normal  = df.loc[df['Disease Status (NSCLC: primary tumors; Normal: non-tumor lung tissues)'] == 1]\n",
    "disease = disease[disease.columns[:-1]]\n",
    "normal = normal[normal.columns[:-1]]"
   ]
  },
  {
   "cell_type": "code",
   "execution_count": 6,
   "metadata": {},
   "outputs": [
    {
     "name": "stdout",
     "output_type": "stream",
     "text": [
      "Number of genes out of 412 in training data-set having FC>1:\t 177\n",
      "\n",
      "Note:\n",
      "\"genes_vs_FC\" variable contains FC values for all 412 genes for the training data-set\n"
     ]
    }
   ],
   "source": [
    "disease_expressions = []\n",
    "normal_expressions = []\n",
    "\n",
    "for i in range(normal.shape[1]):\n",
    "    disease_expressions.append(np.mean(disease[disease.columns[i]]))\n",
    "    normal_expressions.append(np.mean(normal[normal.columns[i]]))\n",
    "    \n",
    "    \n",
    "disease_expressions = np.asarray(disease_expressions)\n",
    "normal_expressions = np.asarray(normal_expressions)\n",
    "FC = disease_expressions/normal_expressions\n",
    "sum = 0\n",
    "for i in FC:\n",
    "    if i>1:\n",
    "        sum+=1\n",
    "print('Number of genes out of 412 in training data-set having FC>1:\\t',sum)\n",
    "genes_vs_FC = list(zip(disease.columns, FC))\n",
    "print('\\nNote:')\n",
    "print('\"genes_vs_FC\" variable contains FC values for all 412 genes for the training data-set')"
   ]
  },
  {
   "cell_type": "code",
   "execution_count": 7,
   "metadata": {},
   "outputs": [],
   "source": [
    "with open(\"genes_vs_FC_test.txt\", \"w\") as outfile:\n",
    "    outfile.write(\"\\n\".join(str(item) for item in genes_vs_FC))"
   ]
  },
  {
   "cell_type": "markdown",
   "metadata": {},
   "source": [
    "### Fc values have now been saved to the present working directory"
   ]
  }
 ],
 "metadata": {
  "kernelspec": {
   "display_name": "Python 3",
   "language": "python",
   "name": "python3"
  },
  "language_info": {
   "codemirror_mode": {
    "name": "ipython",
    "version": 3
   },
   "file_extension": ".py",
   "mimetype": "text/x-python",
   "name": "python",
   "nbconvert_exporter": "python",
   "pygments_lexer": "ipython3",
   "version": "3.7.8"
  }
 },
 "nbformat": 4,
 "nbformat_minor": 4
}
